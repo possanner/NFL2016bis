{
 "cells": [
  {
   "cell_type": "code",
   "execution_count": 1,
   "metadata": {},
   "outputs": [],
   "source": [
    "import numpy as np"
   ]
  },
  {
   "cell_type": "code",
   "execution_count": 2,
   "metadata": {},
   "outputs": [],
   "source": [
    "def redpr(str):\n",
    "    print('\\x1b[31m' + str + '\\x1b[0m')\n",
    "    \n",
    "def greenpr(str):\n",
    "    print('\\x1b[32m' + str + '\\x1b[0m')\n",
    "    \n",
    "def colorpr2(str0, str1, col1, str2, col2):\n",
    "    print(str0 + '\\x1b[' + col1 + 'm' + str1 + '\\x1b[0m', '   at  ', '\\x1b[' + col2 + 'm' + str2 + '\\x1b[0m')"
   ]
  },
  {
   "cell_type": "code",
   "execution_count": 3,
   "metadata": {},
   "outputs": [],
   "source": [
    "week = 8\n",
    "lastweek = week - 1\n",
    "wk = str(week)\n",
    "lwk = str(lastweek)\n",
    "\n",
    "with open('schedule_2018.txt') as f:\n",
    "    #passer = f.readlines()\n",
    "    schedule = list(f)\n",
    "\n",
    "with open('Week' + lwk + '/redzoneOFF_w' + lwk + '.txt') as f:\n",
    "    #passer = f.readlines()\n",
    "    passOFF = list(f)\n",
    "    \n",
    "with open('Week' + lwk + '/redzoneDEF_w' + lwk + '.txt') as f:\n",
    "    #passer = f.readlines()\n",
    "    passDEF = list(f)\n",
    "\n",
    "with open('Week' + lwk + '/sacks_w' + lwk + '.txt') as f:\n",
    "    #passer = f.readlines()\n",
    "    sacks = list(f)\n",
    "    \n",
    "with open('Week' + lwk + '/timessacked_w' + lwk + '.txt') as f:\n",
    "    #passer = f.readlines()\n",
    "    times = list(f)\n",
    "    \n",
    "with open('Week' + lwk + '/rushingOFF_w' + lwk + '.txt') as f:\n",
    "    #passer = f.readlines()\n",
    "    rushOFF = list(f)\n",
    "    \n",
    "with open('Week' + lwk + '/rushingDEF_w' + lwk + '.txt') as f:\n",
    "    #passer = f.readlines()\n",
    "    rushDEF = list(f)"
   ]
  },
  {
   "cell_type": "code",
   "execution_count": 4,
   "metadata": {},
   "outputs": [
    {
     "data": {
      "text/plain": [
       "['1      Kansas City Chiefs      23\\n',\n",
       " '2        Los Angeles Rams      21\\n',\n",
       " '3      New Orleans Saints      20\\n',\n",
       " '4        Baltimore Ravens      19\\n',\n",
       " '5      Indianapolis Colts      18\\n',\n",
       " '6    New England Patriots      18\\n',\n",
       " '7         Atlanta Falcons      16\\n',\n",
       " '8     Philadelphia Eagles      16\\n',\n",
       " '9      Cincinnati Bengals      16\\n',\n",
       " '10          Chicago Bears      14\\n',\n",
       " '11   Tampa Bay Buccaneers      14\\n',\n",
       " '12   Los Angeles Chargers      14\\n',\n",
       " '13    Pittsburgh Steelers      13\\n',\n",
       " '14       Cleveland Browns      12\\n',\n",
       " '15      Carolina Panthers      12\\n',\n",
       " '16         Houston Texans      11\\n',\n",
       " '17      Green Bay Packers      11\\n',\n",
       " '18    San Francisco 49ers      11\\n',\n",
       " '19       Seattle Seahawks      11\\n',\n",
       " '20          Detroit Lions      11\\n',\n",
       " '21      Minnesota Vikings      10\\n',\n",
       " '22         Denver Broncos      10\\n',\n",
       " '23         Dallas Cowboys      10\\n',\n",
       " '24    Washington Redskins       9\\n',\n",
       " '25        Oakland Raiders       9\\n',\n",
       " '26          New York Jets       8\\n',\n",
       " '27       Tennessee Titans       7\\n',\n",
       " '28         Miami Dolphins       7\\n',\n",
       " '29        New York Giants       7\\n',\n",
       " '30      Arizona Cardinals       7\\n',\n",
       " '31   Jacksonville Jaguars       6\\n',\n",
       " '32          Buffalo Bills       6']"
      ]
     },
     "execution_count": 4,
     "metadata": {},
     "output_type": "execute_result"
    }
   ],
   "source": [
    "passOFF"
   ]
  },
  {
   "cell_type": "code",
   "execution_count": 5,
   "metadata": {},
   "outputs": [
    {
     "data": {
      "text/plain": [
       "['1        Tennessee Titans       6\\n',\n",
       " '2          Dallas Cowboys       7\\n',\n",
       " '3           Chicago Bears       8\\n',\n",
       " '4        Baltimore Ravens       8\\n',\n",
       " '5           Detroit Lions       9\\n',\n",
       " '6        Los Angeles Rams      10\\n',\n",
       " '7    Jacksonville Jaguars      10\\n',\n",
       " '8           New York Jets      10\\n',\n",
       " '9        Seattle Seahawks      10\\n',\n",
       " '10     Indianapolis Colts      11\\n',\n",
       " '11        New York Giants      11\\n',\n",
       " '12      Green Bay Packers      11\\n',\n",
       " '13    Washington Redskins      11\\n',\n",
       " '14    Philadelphia Eagles      11\\n',\n",
       " '15      Carolina Panthers      11\\n',\n",
       " '16      Minnesota Vikings      11\\n',\n",
       " '17   Los Angeles Chargers      12\\n',\n",
       " '18         Miami Dolphins      12\\n',\n",
       " '19         Denver Broncos      12\\n',\n",
       " '20        Oakland Raiders      12\\n',\n",
       " '21    Pittsburgh Steelers      13\\n',\n",
       " '22         Houston Texans      14\\n',\n",
       " '23     New Orleans Saints      14\\n',\n",
       " '24   New England Patriots      15\\n',\n",
       " '25      Arizona Cardinals      15\\n',\n",
       " '26          Buffalo Bills      16\\n',\n",
       " '27       Cleveland Browns      16\\n',\n",
       " '28     Kansas City Chiefs      16\\n',\n",
       " '29     Cincinnati Bengals      17\\n',\n",
       " '30   Tampa Bay Buccaneers      18\\n',\n",
       " '31    San Francisco 49ers      19\\n',\n",
       " '32        Atlanta Falcons      21']"
      ]
     },
     "execution_count": 5,
     "metadata": {},
     "output_type": "execute_result"
    }
   ],
   "source": [
    "passDEF"
   ]
  },
  {
   "cell_type": "code",
   "execution_count": 6,
   "metadata": {},
   "outputs": [],
   "source": [
    "team_list = []\n",
    "data_dict = {}\n",
    "\n",
    "for i in range(len(passOFF)):\n",
    "    \n",
    "    # passing yards per game:\n",
    "    team = passOFF[i][2:25].lstrip()\n",
    "    team_list.append(team)\n",
    "    \n",
    "    val = float(passOFF[i].rstrip()[-4:])\n",
    "    \n",
    "    rnk = int(passOFF[i][0:2].rstrip())\n",
    "    \n",
    "    data_dict[team] = {}\n",
    "    data_dict[team]['passOFF'] = [val, rnk]\n",
    "\n",
    "    \n",
    "for i in range(len(passOFF)):\n",
    "    # passing yards allowed per game:\n",
    "    team = passDEF[i][2:25].lstrip()\n",
    "    \n",
    "    val = float(passDEF[i].rstrip()[-4:])\n",
    "    \n",
    "    rnk = int(passDEF[i][0:2].rstrip())\n",
    "    \n",
    "    data_dict[team]['passDEF'] = [val, rnk]\n",
    "    \n",
    "    # sack percentage:\n",
    "    team = sacks[i][2:25].lstrip()\n",
    "    \n",
    "    val = float(sacks[i].rstrip()[-4:])\n",
    "    \n",
    "    rnk = int(sacks[i][0:2].rstrip())\n",
    "    \n",
    "    data_dict[team]['sacks'] = [val, rnk]\n",
    "    \n",
    "    # times sacked percentage:\n",
    "    team = times[i][2:25].lstrip()\n",
    "    \n",
    "    val = float(times[i].rstrip()[-4:])\n",
    "    \n",
    "    rnk = int(times[i][0:2].rstrip())\n",
    "    \n",
    "    data_dict[team]['times'] = [val, rnk]\n",
    "    \n",
    "    # rushing yards per game:\n",
    "    team = rushOFF[i][2:25].lstrip()\n",
    "    \n",
    "    val = float(rushOFF[i].rstrip()[-5:])\n",
    "    \n",
    "    rnk = int(rushOFF[i][0:2].rstrip())\n",
    "    \n",
    "    data_dict[team]['rushOFF'] = [val, rnk]\n",
    "    \n",
    "    # rushing yards allowed per game:\n",
    "    team = rushDEF[i][2:25].lstrip()\n",
    "    \n",
    "    val = float(rushDEF[i].rstrip()[-5:])\n",
    "    \n",
    "    rnk = int(rushDEF[i][0:2].rstrip())\n",
    "    \n",
    "    data_dict[team]['rushDEF'] = [val, rnk]\n",
    "    \n",
    "    \n",
    "team_list = sorted(team_list)"
   ]
  },
  {
   "cell_type": "code",
   "execution_count": 7,
   "metadata": {},
   "outputs": [
    {
     "name": "stdout",
     "output_type": "stream",
     "text": [
      "[  0.           7.88888889   9.77777778  11.66666667  13.55555556\n",
      "  15.44444444  17.33333333  19.22222222  21.11111111  23.        ]\n"
     ]
    }
   ],
   "source": [
    "passOFF_ar = []\n",
    "\n",
    "for team in team_list:\n",
    "    passOFF_ar.append(data_dict[team]['passOFF'][0])\n",
    "    \n",
    "ps = np.linspace(np.amin(passOFF_ar), np.amax(passOFF_ar), 10)\n",
    "ps[0] = 0\n",
    "print(ps)\n",
    "\n",
    "for j in range(9):\n",
    "    \n",
    "    ind, = np.where(np.logical_and(passOFF_ar <= ps[j + 1], passOFF_ar > ps[j]))\n",
    "    pts = 2 - j*0.5\n",
    "        \n",
    "    for i in ind:\n",
    "        data_dict[team_list[i]]['passOFF'] =  [data_dict[team_list[i]]['passOFF'][0], pts]"
   ]
  },
  {
   "cell_type": "code",
   "execution_count": 8,
   "metadata": {},
   "outputs": [
    {
     "name": "stdout",
     "output_type": "stream",
     "text": [
      "[  0.           7.66666667   9.33333333  11.          12.66666667\n",
      "  14.33333333  16.          17.66666667  19.33333333  21.        ]\n"
     ]
    }
   ],
   "source": [
    "passDEF_ar = []\n",
    "\n",
    "for team in team_list:\n",
    "    passDEF_ar.append(data_dict[team]['passDEF'][0])\n",
    "    \n",
    "ps = np.linspace(np.amin(passDEF_ar), np.amax(passDEF_ar), 10)\n",
    "ps[0] = 0\n",
    "print(ps)\n",
    "\n",
    "for j in range(9):\n",
    "    \n",
    "    ind, = np.where(np.logical_and(passDEF_ar <= ps[j + 1], passDEF_ar > ps[j]))\n",
    "    pts = -2 + j*0.5\n",
    "        \n",
    "    for i in ind:\n",
    "        data_dict[team_list[i]]['passDEF'] =  [data_dict[team_list[i]]['passDEF'][0], pts]       "
   ]
  },
  {
   "cell_type": "code",
   "execution_count": 9,
   "metadata": {},
   "outputs": [
    {
     "name": "stdout",
     "output_type": "stream",
     "text": [
      "[  0.           9.22222222  11.44444444  13.66666667  15.88888889\n",
      "  18.11111111  20.33333333  22.55555556  24.77777778  27.        ]\n"
     ]
    }
   ],
   "source": [
    "sacks_ar = []\n",
    "\n",
    "for team in team_list:\n",
    "    sacks_ar.append(data_dict[team]['sacks'][0])\n",
    "    \n",
    "ps = np.linspace(np.amin(sacks_ar), np.amax(sacks_ar), 10)\n",
    "ps[0] = 0\n",
    "print(ps)\n",
    "\n",
    "for j in range(9):\n",
    "    \n",
    "    ind, = np.where(np.logical_and(sacks_ar <= ps[j + 1], sacks_ar > ps[j]))\n",
    "    pts = 2 - j*0.5\n",
    "        \n",
    "    for i in ind:\n",
    "        data_dict[team_list[i]]['sacks'] =  [data_dict[team_list[i]]['sacks'][0], pts]"
   ]
  },
  {
   "cell_type": "code",
   "execution_count": 10,
   "metadata": {},
   "outputs": [
    {
     "name": "stdout",
     "output_type": "stream",
     "text": [
      "[  0.          10.55555556  13.11111111  15.66666667  18.22222222\n",
      "  20.77777778  23.33333333  25.88888889  28.44444444  31.        ]\n"
     ]
    }
   ],
   "source": [
    "times_ar = []\n",
    "\n",
    "for team in team_list:\n",
    "    times_ar.append(data_dict[team]['times'][0])\n",
    "    \n",
    "ps = np.linspace(np.amin(times_ar), np.amax(times_ar), 10)\n",
    "ps[0] = 0\n",
    "print(ps)\n",
    "\n",
    "for j in range(9):\n",
    "    \n",
    "    ind, = np.where(np.logical_and(times_ar <= ps[j + 1], times_ar > ps[j]))\n",
    "    pts = -2 + j*0.5\n",
    "        \n",
    "    for i in ind:\n",
    "        data_dict[team_list[i]]['times'] =  [data_dict[team_list[i]]['times'][0], pts]"
   ]
  },
  {
   "cell_type": "code",
   "execution_count": 11,
   "metadata": {},
   "outputs": [
    {
     "name": "stdout",
     "output_type": "stream",
     "text": [
      "[   0.           74.43333333   84.26666667   94.1         103.93333333\n",
      "  113.76666667  123.6         133.43333333  143.26666667  153.1       ]\n"
     ]
    }
   ],
   "source": [
    "rushOFF_ar = []\n",
    "\n",
    "for team in team_list:\n",
    "    rushOFF_ar.append(data_dict[team]['rushOFF'][0])\n",
    "    \n",
    "ps = np.linspace(np.amin(rushOFF_ar), np.amax(rushOFF_ar), 10)\n",
    "ps[0] = 0\n",
    "print(ps)\n",
    "\n",
    "for j in range(9):\n",
    "    \n",
    "    ind, = np.where(np.logical_and(rushOFF_ar <= ps[j + 1], rushOFF_ar > ps[j]))\n",
    "    pts = 2 - j*0.5\n",
    "        \n",
    "    for i in ind:\n",
    "        data_dict[team_list[i]]['rushOFF'] =  [data_dict[team_list[i]]['rushOFF'][0], pts]"
   ]
  },
  {
   "cell_type": "code",
   "execution_count": 13,
   "metadata": {
    "scrolled": false
   },
   "outputs": [
    {
     "name": "stdout",
     "output_type": "stream",
     "text": [
      "[   0.           80.74444444   89.18888889   97.63333333  106.07777778\n",
      "  114.52222222  122.96666667  131.41111111  139.85555556  148.3       ]\n"
     ]
    },
    {
     "data": {
      "text/plain": [
       "{'Kansas City Chiefs': {'passOFF': [23.0, -2.0],\n",
       "  'times': [8.0, -2.0],\n",
       "  'rushOFF': [124.3, -1.0],\n",
       "  'sacks': [19.0, -0.5],\n",
       "  'rushDEF': [118.9, 0.5],\n",
       "  'passDEF': [16.0, 0.5]},\n",
       " 'Los Angeles Rams': {'passOFF': [21.0, -1.5],\n",
       "  'rushOFF': [153.1, -2.0],\n",
       "  'passDEF': [10.0, -1.0],\n",
       "  'sacks': [19.0, -0.5],\n",
       "  'times': [13.0, -1.5],\n",
       "  'rushDEF': [100.1, -0.5]},\n",
       " 'New Orleans Saints': {'passOFF': [20.0, -1.5],\n",
       "  'rushDEF': [72.3, -2.0],\n",
       "  'times': [9.0, -2.0],\n",
       "  'rushOFF': [108.3, 0.0],\n",
       "  'passDEF': [14.0, 0.0],\n",
       "  'sacks': [13.0, 1.0]},\n",
       " 'Baltimore Ravens': {'passOFF': [19.0, -1.0],\n",
       "  'sacks': [27.0, -2.0],\n",
       "  'passDEF': [8.0, -1.5],\n",
       "  'rushDEF': [90.1, -1.0],\n",
       "  'times': [13.0, -1.5],\n",
       "  'rushOFF': [96.0, 0.5]},\n",
       " 'Indianapolis Colts': {'passOFF': [18.0, -1.0],\n",
       "  'sacks': [21.0, -1.0],\n",
       "  'times': [10.0, -2.0],\n",
       "  'passDEF': [11.0, -1.0],\n",
       "  'rushDEF': [110.9, 0.0],\n",
       "  'rushOFF': [102.7, 0.5]},\n",
       " 'New England Patriots': {'passOFF': [18.0, -1.0],\n",
       "  'times': [9.0, -2.0],\n",
       "  'rushOFF': [120.9, -0.5],\n",
       "  'rushDEF': [114.0, 0.0],\n",
       "  'passDEF': [15.0, 0.5],\n",
       "  'sacks': [9.0, 2.0]},\n",
       " 'Atlanta Falcons': {'passOFF': [16.0, -0.5],\n",
       "  'times': [17.0, -0.5],\n",
       "  'rushDEF': [121.3, 0.5],\n",
       "  'sacks': [10.0, 1.5],\n",
       "  'rushOFF': [86.0, 1.0],\n",
       "  'passDEF': [21.0, 2.0]},\n",
       " 'Philadelphia Eagles': {'passOFF': [16.0, -0.5],\n",
       "  'rushDEF': [85.7, -1.5],\n",
       "  'passDEF': [11.0, -1.0],\n",
       "  'sacks': [18.0, 0.0],\n",
       "  'rushOFF': [102.9, 0.5],\n",
       "  'times': [22.0, 0.5]},\n",
       " 'Cincinnati Bengals': {'passOFF': [16.0, -0.5],\n",
       "  'times': [14.0, -1.0],\n",
       "  'sacks': [15.0, 0.5],\n",
       "  'rushDEF': [128.7, 1.0],\n",
       "  'passDEF': [17.0, 1.0],\n",
       "  'rushOFF': [86.3, 1.0]},\n",
       " 'Chicago Bears': {'passOFF': [14.0, 0.0],\n",
       "  'passDEF': [8.0, -1.5],\n",
       "  'rushDEF': [87.5, -1.5],\n",
       "  'rushOFF': [130.7, -1.0],\n",
       "  'sacks': [19.0, -0.5],\n",
       "  'times': [14.0, -1.0]},\n",
       " 'Tampa Bay Buccaneers': {'passOFF': [14.0, 0.0],\n",
       "  'rushDEF': [90.0, -1.0],\n",
       "  'times': [15.0, -1.0],\n",
       "  'sacks': [14.0, 0.5],\n",
       "  'passDEF': [18.0, 1.5],\n",
       "  'rushOFF': [85.5, 1.0]},\n",
       " 'Los Angeles Chargers': {'passOFF': [14.0, 0.0],\n",
       "  'times': [10.0, -2.0],\n",
       "  'rushOFF': [124.4, -1.0],\n",
       "  'rushDEF': [106.4, 0.0],\n",
       "  'sacks': [18.0, 0.0],\n",
       "  'passDEF': [12.0, -0.5]},\n",
       " 'Pittsburgh Steelers': {'passOFF': [13.0, 0.5],\n",
       "  'sacks': [22.0, -1.0],\n",
       "  'times': [9.0, -2.0],\n",
       "  'rushDEF': [97.8, -0.5],\n",
       "  'passDEF': [13.0, 0.0],\n",
       "  'rushOFF': [88.7, 1.0]},\n",
       " 'Cleveland Browns': {'passOFF': [12.0, 0.5],\n",
       "  'rushOFF': [135.0, -1.5],\n",
       "  'sacks': [19.0, -0.5],\n",
       "  'passDEF': [16.0, 0.5],\n",
       "  'rushDEF': [134.7, 1.5],\n",
       "  'times': [31.0, 2.0]},\n",
       " 'Carolina Panthers': {'passOFF': [12.0, 0.5],\n",
       "  'rushOFF': [136.3, -1.5],\n",
       "  'times': [10.0, -2.0],\n",
       "  'rushDEF': [95.0, -1.0],\n",
       "  'passDEF': [11.0, -1.0],\n",
       "  'sacks': [16.0, 0.0]},\n",
       " 'Houston Texans': {'passOFF': [11.0, 1.0],\n",
       "  'rushDEF': [92.1, -1.0],\n",
       "  'sacks': [19.0, -0.5],\n",
       "  'rushOFF': [113.7, 0.0],\n",
       "  'passDEF': [14.0, 0.0],\n",
       "  'times': [26.0, 1.5]},\n",
       " 'Green Bay Packers': {'passOFF': [11.0, 1.0],\n",
       "  'passDEF': [11.0, -1.0],\n",
       "  'sacks': [18.0, 0.0],\n",
       "  'rushOFF': [103.7, 0.5],\n",
       "  'rushDEF': [116.5, 0.5],\n",
       "  'times': [21.0, 0.5]},\n",
       " 'San Francisco 49ers': {'passOFF': [11.0, 1.0],\n",
       "  'rushOFF': [137.4, -1.5],\n",
       "  'rushDEF': [105.0, -0.5],\n",
       "  'sacks': [14.0, 0.5],\n",
       "  'passDEF': [19.0, 1.5],\n",
       "  'times': [27.0, 1.5]},\n",
       " 'Seattle Seahawks': {'passOFF': [11.0, 1.0],\n",
       "  'rushOFF': [127.8, -1.0],\n",
       "  'passDEF': [10.0, -1.0],\n",
       "  'sacks': [16.0, 0.0],\n",
       "  'times': [19.0, 0.0],\n",
       "  'rushDEF': [120.7, 0.5]},\n",
       " 'Detroit Lions': {'passOFF': [11.0, 1.0],\n",
       "  'sacks': [21.0, -1.0],\n",
       "  'passDEF': [9.0, -1.5],\n",
       "  'times': [10.0, -2.0],\n",
       "  'rushOFF': [122.3, -0.5],\n",
       "  'rushDEF': [139.3, 1.5]},\n",
       " 'Minnesota Vikings': {'passOFF': [10.0, 1.0],\n",
       "  'sacks': [21.0, -1.0],\n",
       "  'rushDEF': [89.7, -1.0],\n",
       "  'passDEF': [11.0, -1.0],\n",
       "  'times': [19.0, 0.0],\n",
       "  'rushOFF': [87.4, 1.0]},\n",
       " 'Denver Broncos': {'passOFF': [10.0, 1.0],\n",
       "  'sacks': [22.0, -1.0],\n",
       "  'rushOFF': [125.1, -1.0],\n",
       "  'times': [17.0, -0.5],\n",
       "  'passDEF': [12.0, -0.5],\n",
       "  'rushDEF': [148.1, 2.0]},\n",
       " 'Dallas Cowboys': {'passOFF': [10.0, 1.0],\n",
       "  'passDEF': [7.0, -2.0],\n",
       "  'rushOFF': [136.9, -1.5],\n",
       "  'sacks': [19.0, -0.5],\n",
       "  'rushDEF': [96.3, -1.0],\n",
       "  'times': [23.0, 0.5]},\n",
       " 'Washington Redskins': {'passOFF': [9.0, 1.5],\n",
       "  'rushDEF': [87.3, -1.5],\n",
       "  'times': [13.0, -1.5],\n",
       "  'passDEF': [11.0, -1.0],\n",
       "  'rushOFF': [119.0, -0.5],\n",
       "  'sacks': [14.0, 0.5]},\n",
       " 'Oakland Raiders': {'passOFF': [9.0, 1.5],\n",
       "  'times': [17.0, -0.5],\n",
       "  'passDEF': [12.0, -0.5],\n",
       "  'rushOFF': [92.5, 1.0],\n",
       "  'rushDEF': [131.8, 1.5],\n",
       "  'sacks': [7.0, 2.0]},\n",
       " 'New York Jets': {'passOFF': [8.0, 1.5],\n",
       "  'passDEF': [10.0, -1.0],\n",
       "  'rushOFF': [121.9, -0.5],\n",
       "  'rushDEF': [105.7, -0.5],\n",
       "  'times': [16.0, -0.5],\n",
       "  'sacks': [15.0, 0.5]},\n",
       " 'Tennessee Titans': {'passOFF': [7.0, 2.0],\n",
       "  'passDEF': [6.0, -2.0],\n",
       "  'rushOFF': [107.9, 0.0],\n",
       "  'rushDEF': [112.3, 0.0],\n",
       "  'sacks': [15.0, 0.5],\n",
       "  'times': [22.0, 0.5]},\n",
       " 'Miami Dolphins': {'passOFF': [7.0, 2.0],\n",
       "  'times': [15.0, -1.0],\n",
       "  'passDEF': [12.0, -0.5],\n",
       "  'rushOFF': [106.9, 0.0],\n",
       "  'sacks': [11.0, 1.5],\n",
       "  'rushDEF': [136.7, 1.5]},\n",
       " 'New York Giants': {'passOFF': [7.0, 2.0],\n",
       "  'passDEF': [11.0, -1.0],\n",
       "  'times': [20.0, 0.0],\n",
       "  'rushDEF': [121.7, 0.5],\n",
       "  'rushOFF': [87.5, 1.0],\n",
       "  'sacks': [7.0, 2.0]},\n",
       " 'Arizona Cardinals': {'passOFF': [7.0, 2.0],\n",
       "  'sacks': [20.0, -0.5],\n",
       "  'times': [19.0, 0.0],\n",
       "  'passDEF': [15.0, 0.5],\n",
       "  'rushOFF': [64.6, 2.0],\n",
       "  'rushDEF': [148.3, 2.0]},\n",
       " 'Jacksonville Jaguars': {'passOFF': [6.0, 2.0],\n",
       "  'passDEF': [10.0, -1.0],\n",
       "  'sacks': [15.0, 0.5],\n",
       "  'times': [18.0, -0.5],\n",
       "  'rushOFF': [98.6, 0.5],\n",
       "  'rushDEF': [121.9, 0.5]},\n",
       " 'Buffalo Bills': {'passOFF': [6.0, 2.0],\n",
       "  'sacks': [19.0, -0.5],\n",
       "  'rushDEF': [110.7, 0.0],\n",
       "  'rushOFF': [104.6, 0.0],\n",
       "  'passDEF': [16.0, 0.5],\n",
       "  'times': [26.0, 1.5]}}"
      ]
     },
     "execution_count": 13,
     "metadata": {},
     "output_type": "execute_result"
    }
   ],
   "source": [
    "rushDEF_ar = []\n",
    "\n",
    "for team in team_list:\n",
    "    rushDEF_ar.append(data_dict[team]['rushDEF'][0])\n",
    "    \n",
    "ps = np.linspace(np.amin(rushDEF_ar), np.amax(rushDEF_ar), 10)\n",
    "ps[0] = 0\n",
    "\n",
    "for j in range(9):\n",
    "    \n",
    "    ind, = np.where(np.logical_and(rushDEF_ar <= ps[j + 1], rushDEF_ar > ps[j]))\n",
    "    pts = - 2 + j*0.5\n",
    "        \n",
    "    for i in ind:\n",
    "        data_dict[team_list[i]]['rushDEF'] =  [data_dict[team_list[i]]['rushDEF'][0], pts] \n",
    "    \n",
    "print(ps)\n",
    "data_dict"
   ]
  },
  {
   "cell_type": "code",
   "execution_count": 14,
   "metadata": {
    "scrolled": true
   },
   "outputs": [],
   "source": [
    "total_list = []\n",
    "\n",
    "for team in team_list:\n",
    "    data_dict[team]['total'] = (data_dict[team]['passOFF'][1]\n",
    "    + data_dict[team]['passDEF'][1]\n",
    "    + data_dict[team]['sacks'][1]\n",
    "    + data_dict[team]['times'][1]\n",
    "    + data_dict[team]['rushOFF'][1]\n",
    "    + data_dict[team]['rushDEF'][1])\n",
    "    \n",
    "    total_list.append([data_dict[team]['total'], team])\n",
    "    "
   ]
  },
  {
   "cell_type": "code",
   "execution_count": 15,
   "metadata": {},
   "outputs": [
    {
     "name": "stdout",
     "output_type": "stream",
     "text": [
      "Power rankings:\n",
      "\n",
      " 1       Los Angeles Rams -7.0\n",
      " 2       Baltimore Ravens -6.5\n",
      " 3          Chicago Bears -5.5\n",
      " 4      Carolina Panthers -5.0\n",
      " 5     Indianapolis Colts -4.5\n",
      " 6     Kansas City Chiefs -4.5\n",
      " 7     New Orleans Saints -4.5\n",
      " 8         Dallas Cowboys -3.5\n",
      " 9   Los Angeles Chargers -3.5\n",
      "10          Detroit Lions -2.5\n",
      "11    Washington Redskins -2.5\n",
      "12    Philadelphia Eagles -2.0\n",
      "13    Pittsburgh Steelers -2.0\n",
      "14      Minnesota Vikings -1.0\n",
      "15   New England Patriots -1.0\n",
      "16          New York Jets -0.5\n",
      "17       Seattle Seahawks -0.5\n",
      "18         Denver Broncos +0.0\n",
      "19         Houston Texans +1.0\n",
      "20   Tampa Bay Buccaneers +1.0\n",
      "21       Tennessee Titans +1.0\n",
      "22      Green Bay Packers +1.5\n",
      "23     Cincinnati Bengals +2.0\n",
      "24   Jacksonville Jaguars +2.0\n",
      "25       Cleveland Browns +2.5\n",
      "26    San Francisco 49ers +2.5\n",
      "27          Buffalo Bills +3.5\n",
      "28         Miami Dolphins +3.5\n",
      "29        Atlanta Falcons +4.0\n",
      "30        New York Giants +4.5\n",
      "31        Oakland Raiders +5.0\n",
      "32      Arizona Cardinals +6.0\n"
     ]
    }
   ],
   "source": [
    "power_rankings = sorted(total_list)\n",
    "print('Power rankings:')\n",
    "print()\n",
    "for i in range(32):\n",
    "    print('{:2d}'.format(i + 1), power_rankings[i][1].rjust(22), '{0:+.1f}'.format(power_rankings[i][0] ))\n"
   ]
  },
  {
   "cell_type": "code",
   "execution_count": 17,
   "metadata": {},
   "outputs": [
    {
     "name": "stdout",
     "output_type": "stream",
     "text": [
      "        Miami Dolphins  +5.0   at   Houston Texans\n",
      "   Philadelphia Eagles  -1.5   at   Jacksonville Jaguars\n",
      "   Washington Redskins  -4.5   at   New York Giants\n",
      "         New York Jets  +7.5   at   Chicago Bears\n",
      "        Denver Broncos  +7.0   at   Kansas City Chiefs\n",
      "      Cleveland Browns  +7.0   at   Pittsburgh Steelers\n",
      "      Seattle Seahawks  +4.5   at   Detroit Lions\n",
      "      Baltimore Ravens  +1.0   at   Carolina Panthers\n",
      "  Tampa Bay Buccaneers  +1.5   at   Cincinnati Bengals\n",
      "    Indianapolis Colts  -7.0   at   Oakland Raiders\n",
      "     Green Bay Packers +11.0   at   Los Angeles Rams\n",
      "   San Francisco 49ers  -1.0   at   Arizona Cardinals\n",
      "    New Orleans Saints  -1.0   at   Minnesota Vikings\n",
      "  New England Patriots  -2.0   at   Buffalo Bills\n"
     ]
    }
   ],
   "source": [
    "for i in range(len(schedule)):\n",
    "    if ( schedule[i][0]==wk and schedule[i][1]==' ' ) or schedule[i][0:2]==wk:\n",
    "        \n",
    "        team_away = schedule[i][3:29].lstrip().rstrip()\n",
    "        team_home = schedule[i][28:].lstrip().rstrip()\n",
    "        \n",
    "        spread =  2.5 + data_dict[team_away]['total'] - data_dict[team_home]['total']\n",
    "        \n",
    "        print(team_away.rjust(22) + ' {0:+5.1f}   at   '.format(spread) + team_home )"
   ]
  },
  {
   "cell_type": "code",
   "execution_count": 16,
   "metadata": {},
   "outputs": [
    {
     "name": "stdout",
     "output_type": "stream",
     "text": [
      "  New England Patriots -2.5\n",
      "         New York Jets -0.5\n",
      "        Miami Dolphins 1.5\n",
      "         Buffalo Bills 3.0\n"
     ]
    }
   ],
   "source": [
    "div_list = []\n",
    "team = 'Miami Dolphins'\n",
    "div_list.append([data_dict[team]['total'], team])\n",
    "team = 'New England Patriots'\n",
    "div_list.append([data_dict[team]['total'], team])\n",
    "team = 'New York Jets'\n",
    "div_list.append([data_dict[team]['total'], team])\n",
    "team = 'Buffalo Bills'\n",
    "div_list.append([data_dict[team]['total'], team])\n",
    "AFC_east = sorted(div_list)\n",
    "for i in range(4):\n",
    "    print(AFC_east[i][1].rjust(22), AFC_east[i][0])"
   ]
  },
  {
   "cell_type": "code",
   "execution_count": 17,
   "metadata": {},
   "outputs": [
    {
     "name": "stdout",
     "output_type": "stream",
     "text": [
      "      Baltimore Ravens -7.5\n",
      "   Pittsburgh Steelers -3.5\n",
      "    Cincinnati Bengals -0.5\n",
      "      Cleveland Browns 3.0\n"
     ]
    }
   ],
   "source": [
    "div_list = []\n",
    "team = 'Cincinnati Bengals'\n",
    "div_list.append([data_dict[team]['total'], team])\n",
    "team = 'Baltimore Ravens'\n",
    "div_list.append([data_dict[team]['total'], team])\n",
    "team = 'Pittsburgh Steelers'\n",
    "div_list.append([data_dict[team]['total'], team])\n",
    "team = 'Cleveland Browns'\n",
    "div_list.append([data_dict[team]['total'], team])\n",
    "AFC_north = sorted(div_list)\n",
    "for i in range(4):\n",
    "    print(AFC_north[i][1].rjust(22), AFC_north[i][0])"
   ]
  },
  {
   "cell_type": "code",
   "execution_count": 18,
   "metadata": {},
   "outputs": [
    {
     "name": "stdout",
     "output_type": "stream",
     "text": [
      "    Indianapolis Colts -2.5\n",
      "  Jacksonville Jaguars 1.0\n",
      "        Houston Texans 2.5\n",
      "      Tennessee Titans 3.0\n"
     ]
    }
   ],
   "source": [
    "div_list = []\n",
    "team = 'Tennessee Titans'\n",
    "div_list.append([data_dict[team]['total'], team])\n",
    "team = 'Jacksonville Jaguars'\n",
    "div_list.append([data_dict[team]['total'], team])\n",
    "team = 'Indianapolis Colts'\n",
    "div_list.append([data_dict[team]['total'], team])\n",
    "team = 'Houston Texans'\n",
    "div_list.append([data_dict[team]['total'], team])\n",
    "AFC_south = sorted(div_list)\n",
    "for i in range(4):\n",
    "    print(AFC_south[i][1].rjust(22), AFC_south[i][0])"
   ]
  },
  {
   "cell_type": "code",
   "execution_count": 19,
   "metadata": {},
   "outputs": [
    {
     "name": "stdout",
     "output_type": "stream",
     "text": [
      "  Los Angeles Chargers -6.5\n",
      "    Kansas City Chiefs -3.0\n",
      "        Denver Broncos 2.0\n",
      "       Oakland Raiders 4.5\n"
     ]
    }
   ],
   "source": [
    "div_list = []\n",
    "team = 'Kansas City Chiefs'\n",
    "div_list.append([data_dict[team]['total'], team])\n",
    "team = 'Denver Broncos'\n",
    "div_list.append([data_dict[team]['total'], team])\n",
    "team = 'Los Angeles Chargers'\n",
    "div_list.append([data_dict[team]['total'], team])\n",
    "team = 'Oakland Raiders'\n",
    "div_list.append([data_dict[team]['total'], team])\n",
    "AFC_west = sorted(div_list)\n",
    "for i in range(4):\n",
    "    print(AFC_west[i][1].rjust(22), AFC_west[i][0])"
   ]
  },
  {
   "cell_type": "code",
   "execution_count": 20,
   "metadata": {},
   "outputs": [
    {
     "name": "stdout",
     "output_type": "stream",
     "text": [
      "        Dallas Cowboys -4.0\n",
      "   Philadelphia Eagles -4.0\n",
      "   Washington Redskins -1.5\n",
      "       New York Giants 5.5\n"
     ]
    }
   ],
   "source": [
    "div_list = []\n",
    "team = 'Washington Redskins'\n",
    "div_list.append([data_dict[team]['total'], team])\n",
    "team = 'Philadelphia Eagles'\n",
    "div_list.append([data_dict[team]['total'], team])\n",
    "team = 'New York Giants'\n",
    "div_list.append([data_dict[team]['total'], team])\n",
    "team = 'Dallas Cowboys'\n",
    "div_list.append([data_dict[team]['total'], team])\n",
    "NFC_east = sorted(div_list)\n",
    "for i in range(4):\n",
    "    print(NFC_east[i][1].rjust(22), NFC_east[i][0])"
   ]
  },
  {
   "cell_type": "code",
   "execution_count": 21,
   "metadata": {},
   "outputs": [
    {
     "name": "stdout",
     "output_type": "stream",
     "text": [
      "         Chicago Bears -5.5\n",
      "         Detroit Lions 0.0\n",
      "     Minnesota Vikings 0.0\n",
      "     Green Bay Packers 0.5\n"
     ]
    }
   ],
   "source": [
    "div_list = []\n",
    "team = 'Chicago Bears'\n",
    "div_list.append([data_dict[team]['total'], team])\n",
    "team = 'Green Bay Packers'\n",
    "div_list.append([data_dict[team]['total'], team])\n",
    "team = 'Detroit Lions'\n",
    "div_list.append([data_dict[team]['total'], team])\n",
    "team = 'Minnesota Vikings'\n",
    "div_list.append([data_dict[team]['total'], team])\n",
    "NFC_north = sorted(div_list)\n",
    "for i in range(4):\n",
    "    print(NFC_north[i][1].rjust(22), NFC_north[i][0])"
   ]
  },
  {
   "cell_type": "code",
   "execution_count": 22,
   "metadata": {},
   "outputs": [
    {
     "name": "stdout",
     "output_type": "stream",
     "text": [
      "    New Orleans Saints -5.0\n",
      "     Carolina Panthers -3.0\n",
      "  Tampa Bay Buccaneers 1.5\n",
      "       Atlanta Falcons 3.5\n"
     ]
    }
   ],
   "source": [
    "div_list = []\n",
    "team = 'New Orleans Saints'\n",
    "div_list.append([data_dict[team]['total'], team])\n",
    "team = 'Tampa Bay Buccaneers'\n",
    "div_list.append([data_dict[team]['total'], team])\n",
    "team = 'Atlanta Falcons'\n",
    "div_list.append([data_dict[team]['total'], team])\n",
    "team = 'Carolina Panthers'\n",
    "div_list.append([data_dict[team]['total'], team])\n",
    "NFC_south = sorted(div_list)\n",
    "for i in range(4):\n",
    "    print(NFC_south[i][1].rjust(22), NFC_south[i][0])"
   ]
  },
  {
   "cell_type": "code",
   "execution_count": 23,
   "metadata": {},
   "outputs": [
    {
     "name": "stdout",
     "output_type": "stream",
     "text": [
      "      Los Angeles Rams -6.0\n",
      "      Seattle Seahawks -1.5\n",
      "   San Francisco 49ers 0.5\n",
      "     Arizona Cardinals 5.0\n"
     ]
    }
   ],
   "source": [
    "div_list = []\n",
    "team = 'Los Angeles Rams'\n",
    "div_list.append([data_dict[team]['total'], team])\n",
    "team = 'Seattle Seahawks'\n",
    "div_list.append([data_dict[team]['total'], team])\n",
    "team = 'Arizona Cardinals'\n",
    "div_list.append([data_dict[team]['total'], team])\n",
    "team = 'San Francisco 49ers'\n",
    "div_list.append([data_dict[team]['total'], team])\n",
    "NFC_west = sorted(div_list)\n",
    "for i in range(4):\n",
    "    print(NFC_west[i][1].rjust(22), NFC_west[i][0])"
   ]
  },
  {
   "cell_type": "code",
   "execution_count": 24,
   "metadata": {
    "scrolled": false
   },
   "outputs": [
    {
     "data": {
      "text/plain": [
       "{'Kansas City Chiefs': {'passOFF': [18.0, -2.0],\n",
       "  'times': [6.0, -2.0],\n",
       "  'passDEF': [15.0, 0.5],\n",
       "  'sacks': [17.0, 0.0],\n",
       "  'rushOFF': [112.0, 0.0],\n",
       "  'rushDEF': [127.8, 0.5],\n",
       "  'total': -3.0},\n",
       " 'New Orleans Saints': {'passOFF': [17.0, -2.0],\n",
       "  'rushDEF': [71.4, -2.0],\n",
       "  'times': [8.0, -2.0],\n",
       "  'passDEF': [11.0, -0.5],\n",
       "  'rushOFF': [103.2, 0.5],\n",
       "  'sacks': [12.0, 1.0],\n",
       "  'total': -5.0},\n",
       " 'Los Angeles Rams': {'passOFF': [17.0, -2.0],\n",
       "  'rushOFF': [154.3, -2.0],\n",
       "  'times': [11.0, -1.0],\n",
       "  'rushDEF': [99.0, -1.0],\n",
       "  'sacks': [12.0, 1.0],\n",
       "  'passDEF': [9.0, -1.0],\n",
       "  'total': -6.0},\n",
       " 'Baltimore Ravens': {'passOFF': [16.0, -1.5],\n",
       "  'sacks': [26.0, -2.0],\n",
       "  'rushDEF': [82.8, -1.5],\n",
       "  'times': [12.0, -1.0],\n",
       "  'rushOFF': [99.2, 0.5],\n",
       "  'passDEF': [5.0, -2.0],\n",
       "  'total': -7.5},\n",
       " 'Atlanta Falcons': {'passOFF': [16.0, -1.5],\n",
       "  'passDEF': [21.0, 2.0],\n",
       "  'times': [17.0, 0.0],\n",
       "  'rushDEF': [121.7, 0.5],\n",
       "  'sacks': [10.0, 1.5],\n",
       "  'rushOFF': [86.0, 1.0],\n",
       "  'total': 3.5},\n",
       " 'Cincinnati Bengals': {'passOFF': [15.0, -1.0],\n",
       "  'passDEF': [12.0, -0.5],\n",
       "  'times': [12.0, -1.0],\n",
       "  'rushDEF': [117.2, 0.0],\n",
       "  'sacks': [13.0, 1.0],\n",
       "  'rushOFF': [89.8, 1.0],\n",
       "  'total': -0.5},\n",
       " 'New England Patriots': {'passOFF': [15.0, -1.0],\n",
       "  'times': [8.0, -2.0],\n",
       "  'rushOFF': [123.0, -0.5],\n",
       "  'passDEF': [11.0, -0.5],\n",
       "  'rushDEF': [110.7, -0.5],\n",
       "  'sacks': [7.0, 2.0],\n",
       "  'total': -2.5},\n",
       " 'Indianapolis Colts': {'passOFF': [15.0, -1.0],\n",
       "  'sacks': [19.0, -0.5],\n",
       "  'times': [10.0, -1.5],\n",
       "  'rushDEF': [106.8, -0.5],\n",
       "  'passDEF': [11.0, -0.5],\n",
       "  'rushOFF': [83.2, 1.5],\n",
       "  'total': -2.5},\n",
       " 'Los Angeles Chargers': {'passOFF': [14.0, -1.0],\n",
       "  'times': [8.0, -2.0],\n",
       "  'rushOFF': [137.3, -1.5],\n",
       "  'rushDEF': [96.8, -1.0],\n",
       "  'sacks': [16.0, 0.0],\n",
       "  'passDEF': [10.0, -1.0],\n",
       "  'total': -6.5},\n",
       " 'Philadelphia Eagles': {'passOFF': [14.0, -1.0],\n",
       "  'rushDEF': [79.8, -2.0],\n",
       "  'rushOFF': [110.3, 0.0],\n",
       "  'sacks': [16.0, 0.0],\n",
       "  'times': [18.0, 0.5],\n",
       "  'passDEF': [8.0, -1.5],\n",
       "  'total': -4.0},\n",
       " 'Pittsburgh Steelers': {'passOFF': [13.0, -0.5],\n",
       "  'sacks': [22.0, -1.5],\n",
       "  'passDEF': [13.0, 0.0],\n",
       "  'times': [9.0, -1.5],\n",
       "  'rushDEF': [97.8, -1.0],\n",
       "  'rushOFF': [88.7, 1.0],\n",
       "  'total': -3.5},\n",
       " 'Seattle Seahawks': {'passOFF': [11.0, 0.0],\n",
       "  'rushOFF': [127.8, -1.0],\n",
       "  'sacks': [16.0, 0.0],\n",
       "  'passDEF': [10.0, -1.0],\n",
       "  'rushDEF': [120.7, 0.0],\n",
       "  'times': [19.0, 0.5],\n",
       "  'total': -1.5},\n",
       " 'Tampa Bay Buccaneers': {'passOFF': [11.0, 0.0],\n",
       "  'passDEF': [15.0, 0.5],\n",
       "  'rushDEF': [84.2, -1.5],\n",
       "  'times': [11.0, -1.0],\n",
       "  'sacks': [9.0, 2.0],\n",
       "  'rushOFF': [80.2, 1.5],\n",
       "  'total': 1.5},\n",
       " 'Green Bay Packers': {'passOFF': [11.0, 0.0],\n",
       "  'sacks': [18.0, -0.5],\n",
       "  'passDEF': [11.0, -0.5],\n",
       "  'rushOFF': [103.7, 0.5],\n",
       "  'rushDEF': [116.5, 0.0],\n",
       "  'times': [21.0, 1.0],\n",
       "  'total': 0.5},\n",
       " 'Chicago Bears': {'passOFF': [10.0, 0.5],\n",
       "  'rushDEF': [83.4, -1.5],\n",
       "  'sacks': [18.0, -0.5],\n",
       "  'rushOFF': [130.0, -1.0],\n",
       "  'times': [12.0, -1.0],\n",
       "  'passDEF': [5.0, -2.0],\n",
       "  'total': -5.5},\n",
       " 'San Francisco 49ers': {'passOFF': [10.0, 0.5],\n",
       "  'rushOFF': [142.5, -1.5],\n",
       "  'passDEF': [15.0, 0.5],\n",
       "  'rushDEF': [98.2, -1.0],\n",
       "  'sacks': [12.0, 1.0],\n",
       "  'times': [20.0, 1.0],\n",
       "  'total': 0.5},\n",
       " 'Washington Redskins': {'passOFF': [9.0, 1.0],\n",
       "  'rushDEF': [90.2, -1.5],\n",
       "  'times': [12.0, -1.0],\n",
       "  'rushOFF': [116.8, -0.5],\n",
       "  'passDEF': [10.0, -1.0],\n",
       "  'sacks': [10.0, 1.5],\n",
       "  'total': -1.5},\n",
       " 'Carolina Panthers': {'passOFF': [9.0, 1.0],\n",
       "  'times': [8.0, -2.0],\n",
       "  'rushOFF': [139.4, -1.5],\n",
       "  'rushDEF': [102.4, -0.5],\n",
       "  'passDEF': [9.0, -1.0],\n",
       "  'sacks': [12.0, 1.0],\n",
       "  'total': -3.0},\n",
       " 'Minnesota Vikings': {'passOFF': [9.0, 1.0],\n",
       "  'sacks': [18.0, -0.5],\n",
       "  'rushDEF': [93.0, -1.0],\n",
       "  'passDEF': [9.0, -1.0],\n",
       "  'times': [18.0, 0.5],\n",
       "  'rushOFF': [87.3, 1.0],\n",
       "  'total': 0.0},\n",
       " 'Cleveland Browns': {'passOFF': [9.0, 1.0],\n",
       "  'rushOFF': [137.7, -1.5],\n",
       "  'passDEF': [13.0, 0.0],\n",
       "  'sacks': [15.0, 0.5],\n",
       "  'rushDEF': [138.2, 1.0],\n",
       "  'times': [26.0, 2.0],\n",
       "  'total': 3.0},\n",
       " 'Dallas Cowboys': {'passOFF': [9.0, 1.0],\n",
       "  'rushOFF': [147.5, -2.0],\n",
       "  'sacks': [18.0, -0.5],\n",
       "  'rushDEF': [90.7, -1.5],\n",
       "  'times': [19.0, 0.5],\n",
       "  'passDEF': [7.0, -1.5],\n",
       "  'total': -4.0},\n",
       " 'Denver Broncos': {'passOFF': [9.0, 1.0],\n",
       "  'rushOFF': [124.2, -0.5],\n",
       "  'sacks': [16.0, 0.0],\n",
       "  'passDEF': [11.0, -0.5],\n",
       "  'times': [15.0, 0.0],\n",
       "  'rushDEF': [161.3, 2.0],\n",
       "  'total': 2.0},\n",
       " 'Oakland Raiders': {'passOFF': [9.0, 1.0],\n",
       "  'passDEF': [12.0, -0.5],\n",
       "  'times': [17.0, 0.0],\n",
       "  'rushOFF': [92.5, 1.0],\n",
       "  'rushDEF': [131.8, 1.0],\n",
       "  'sacks': [7.0, 2.0],\n",
       "  'total': 4.5},\n",
       " 'Houston Texans': {'passOFF': [9.0, 1.0],\n",
       "  'passDEF': [13.0, 0.0],\n",
       "  'rushDEF': [95.8, -1.0],\n",
       "  'rushOFF': [109.2, 0.0],\n",
       "  'sacks': [15.0, 0.5],\n",
       "  'times': [25.0, 2.0],\n",
       "  'total': 2.5},\n",
       " 'Detroit Lions': {'passOFF': [8.0, 1.0],\n",
       "  'times': [9.0, -1.5],\n",
       "  'sacks': [17.0, 0.0],\n",
       "  'rushOFF': [97.2, 0.5],\n",
       "  'passDEF': [8.0, -1.5],\n",
       "  'rushDEF': [145.8, 1.5],\n",
       "  'total': 0.0},\n",
       " 'New York Giants': {'passOFF': [7.0, 1.5],\n",
       "  'passDEF': [11.0, -0.5],\n",
       "  'rushDEF': [121.7, 0.5],\n",
       "  'rushOFF': [87.5, 1.0],\n",
       "  'times': [20.0, 1.0],\n",
       "  'sacks': [7.0, 2.0],\n",
       "  'total': 5.5},\n",
       " 'Arizona Cardinals': {'passOFF': [6.0, 2.0],\n",
       "  'passDEF': [14.0, 0.5],\n",
       "  'sacks': [18.0, -0.5],\n",
       "  'times': [13.0, -0.5],\n",
       "  'rushDEF': [151.2, 1.5],\n",
       "  'rushOFF': [64.0, 2.0],\n",
       "  'total': 5.0},\n",
       " 'Buffalo Bills': {'passOFF': [6.0, 2.0],\n",
       "  'sacks': [19.0, -0.5],\n",
       "  'passDEF': [13.0, 0.0],\n",
       "  'rushDEF': [92.5, -1.0],\n",
       "  'rushOFF': [99.5, 0.5],\n",
       "  'times': [24.0, 2.0],\n",
       "  'total': 3.0},\n",
       " 'Miami Dolphins': {'passOFF': [6.0, 2.0],\n",
       "  'times': [11.0, -1.0],\n",
       "  'rushOFF': [106.8, 0.0],\n",
       "  'rushDEF': [118.2, 0.0],\n",
       "  'passDEF': [9.0, -1.0],\n",
       "  'sacks': [10.0, 1.5],\n",
       "  'total': 1.5},\n",
       " 'New York Jets': {'passOFF': [6.0, 2.0],\n",
       "  'rushOFF': [130.3, -1.0],\n",
       "  'times': [13.0, -0.5],\n",
       "  'rushDEF': [108.7, -0.5],\n",
       "  'sacks': [14.0, 0.5],\n",
       "  'passDEF': [9.0, -1.0],\n",
       "  'total': -0.5},\n",
       " 'Tennessee Titans': {'passOFF': [5.0, 2.0],\n",
       "  'sacks': [13.0, 1.0],\n",
       "  'rushOFF': [98.5, 0.5],\n",
       "  'times': [20.0, 1.0],\n",
       "  'rushDEF': [123.2, 0.5],\n",
       "  'passDEF': [6.0, -2.0],\n",
       "  'total': 3.0},\n",
       " 'Jacksonville Jaguars': {'passOFF': [5.0, 2.0],\n",
       "  'sacks': [14.0, 0.5],\n",
       "  'times': [14.0, -0.5],\n",
       "  'rushOFF': [103.3, 0.5],\n",
       "  'rushDEF': [118.7, 0.0],\n",
       "  'passDEF': [8.0, -1.5],\n",
       "  'total': 1.0}}"
      ]
     },
     "execution_count": 24,
     "metadata": {},
     "output_type": "execute_result"
    }
   ],
   "source": [
    "data_dict"
   ]
  },
  {
   "cell_type": "code",
   "execution_count": 25,
   "metadata": {},
   "outputs": [
    {
     "data": {
      "text/plain": [
       "{'passOFF': [13.0, -0.5],\n",
       " 'sacks': [22.0, -1.5],\n",
       " 'passDEF': [13.0, 0.0],\n",
       " 'times': [9.0, -1.5],\n",
       " 'rushDEF': [97.8, -1.0],\n",
       " 'rushOFF': [88.7, 1.0],\n",
       " 'total': -3.5}"
      ]
     },
     "execution_count": 25,
     "metadata": {},
     "output_type": "execute_result"
    }
   ],
   "source": [
    "data_dict['Pittsburgh Steelers']"
   ]
  },
  {
   "cell_type": "code",
   "execution_count": 26,
   "metadata": {},
   "outputs": [
    {
     "data": {
      "text/plain": [
       "{'passOFF': [16.0, -1.5],\n",
       " 'passDEF': [21.0, 2.0],\n",
       " 'times': [17.0, 0.0],\n",
       " 'rushDEF': [121.7, 0.5],\n",
       " 'sacks': [10.0, 1.5],\n",
       " 'rushOFF': [86.0, 1.0],\n",
       " 'total': 3.5}"
      ]
     },
     "execution_count": 26,
     "metadata": {},
     "output_type": "execute_result"
    }
   ],
   "source": [
    "data_dict['Atlanta Falcons']"
   ]
  },
  {
   "cell_type": "code",
   "execution_count": null,
   "metadata": {},
   "outputs": [],
   "source": []
  }
 ],
 "metadata": {
  "kernelspec": {
   "display_name": "Python 3",
   "language": "python",
   "name": "python3"
  },
  "language_info": {
   "codemirror_mode": {
    "name": "ipython",
    "version": 3
   },
   "file_extension": ".py",
   "mimetype": "text/x-python",
   "name": "python",
   "nbconvert_exporter": "python",
   "pygments_lexer": "ipython3",
   "version": "3.6.5"
  }
 },
 "nbformat": 4,
 "nbformat_minor": 2
}
