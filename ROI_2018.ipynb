{
 "cells": [
  {
   "cell_type": "code",
   "execution_count": 1,
   "metadata": {},
   "outputs": [],
   "source": [
    "import numpy as np\n",
    "import matplotlib.pyplot as plt\n",
    "%matplotlib inline"
   ]
  },
  {
   "cell_type": "code",
   "execution_count": 20,
   "metadata": {},
   "outputs": [
    {
     "data": {
      "image/png": "[encoded data removed]",
      "text/plain": [
       "<Figure size 720x432 with 1 Axes>"
      ]
     },
     "metadata": {},
     "output_type": "display_data"
    }
   ],
   "source": [
    "week = 5\n",
    "\n",
    "bankroll = np.zeros(week + 1)\n",
    "bankroll3er = np.zeros(week - 3)\n",
    "bets_tot_week = np.zeros(week + 1)\n",
    "bets_won_week = np.zeros(week + 1)\n",
    "bets_lost_week = np.zeros(week + 1)\n",
    "avg_coeff_week = np.zeros(week + 1)\n",
    "\n",
    "bankroll[0] = 75.\n",
    "\n",
    "for wk in range(week):\n",
    "\n",
    "    wk += 1\n",
    "    \n",
    "    #del wetten\n",
    "    with open('Week' + str(wk) + '/wagers_w' + str(wk) + '.txt') as f:\n",
    "        wetten = list(f)    \n",
    "        \n",
    "    bets_tot = wetten.count('Einzelwette\\n')\n",
    "    bets_won = wetten.count('Gewonnen\\n')\n",
    "    bets_lost = wetten.count('Verloren\\n')\n",
    "    #print('week:', wk, 'bets:', bets_tot, 'won:', bets_won, 'lost:', bets_lost)\n",
    "    #print('winning percentage: ', bets_won/bets_tot*100, '%') \n",
    "    \n",
    "    bets_tot_week[wk] = bets_tot\n",
    "    bets_won_week[wk] = bets_won\n",
    "    bets_lost_week[wk] = bets_lost\n",
    "\n",
    "    bet_list = []\n",
    "    bet_matrix = np.zeros((bets_tot, 3))\n",
    "    bet3er = np.zeros(2)\n",
    "\n",
    "    bet_nr = 0\n",
    "    for i in range(bets_tot):\n",
    "        this_list = []\n",
    "        bet_nr = wetten.index('Einzelwette\\n', bet_nr + 1)\n",
    "        #print(bet_nr)\n",
    "        date = wetten[bet_nr - 1].rstrip()\n",
    "        #print(date)\n",
    "        this_list.append(date)\n",
    "        size = wetten[bet_nr + 1].rstrip()\n",
    "        #print(size)\n",
    "        this_list.append(size)\n",
    "        result = wetten[bet_nr + 2].rstrip()\n",
    "        #print(result)\n",
    "        this_list.append(result)\n",
    "        if result=='Gewonnen':\n",
    "            profit = wetten[bet_nr + 3].rstrip()\n",
    "            jump = 1\n",
    "        else:\n",
    "            profit = '0,00 €' \n",
    "            jump = 0\n",
    "        \n",
    "        if wk >= 5:\n",
    "            bet_nr3er = wetten.index('3er Kombi\\n')\n",
    "            #print(bet_nr3er)\n",
    "            size3er = wetten[bet_nr3er + 1].rstrip()\n",
    "            #print(size3er)\n",
    "            result3er = wetten[bet_nr3er + 2].rstrip()\n",
    "            #print(result3er)\n",
    "            if result3er=='3erGewonnen':\n",
    "                profit3er = wetten[bet_nr3er + 3].rstrip()\n",
    "                jump3er = 1\n",
    "            else:\n",
    "                profit3er = '0,00 €' \n",
    "                jump3er = 0\n",
    "            #print(profit3er, jump3er)\n",
    "            ind1 = size.find('z')\n",
    "            ind2 = size.find('€')\n",
    "            bet3er[0] = float(size3er[ind1 + 1:ind2 - 1].lstrip().replace(',', '.'))\n",
    "            bet3er[1] = float(profit3er[:-1].lstrip().replace(',', '.')) - bet3er[0]\n",
    "            #print(bet3er)\n",
    "            bankroll3er[wk - 4] = bankroll3er[wk - 5] + bet3er[1]\n",
    "            #print(bankroll3er)\n",
    "        \n",
    "        this_list.append(profit)\n",
    "        teams = wetten[bet_nr + 4 + jump].rstrip()\n",
    "        #print(teams)\n",
    "        this_list.append(teams)\n",
    "        handicap = wetten[bet_nr + 5 + jump].rstrip()\n",
    "        #print(handicap3)\n",
    "        this_list.append(handicap)\n",
    "        quote = wetten[bet_nr + 6 + jump].rstrip()\n",
    "        #print(quote)\n",
    "        this_list.append(quote)\n",
    "        score = wetten[bet_nr + 7 + jump].rstrip()\n",
    "        #print(score)\n",
    "        this_list.append(score)\n",
    "\n",
    "        bet_list.append(this_list)\n",
    "\n",
    "        ind1 = size.find('z')\n",
    "        ind2 = size.find('€')\n",
    "        bet_matrix[i, 0] = float(size[ind1 + 1:ind2 - 1].lstrip().replace(',', '.'))\n",
    "        bet_matrix[i, 1] = float(profit[:-1].lstrip().replace(',', '.')) - bet_matrix[i, 0]\n",
    "        bet_matrix[i, 2] = float(quote.replace(',', '.'))\n",
    "        \n",
    "    sum_size = np.sum(bet_matrix[:, 0])\n",
    "    sum_profit = np.sum(bet_matrix[:, 1])\n",
    "    avg_quote = np.mean(bet_matrix[:, 2])\n",
    "    #print('investment:', sum_size)\n",
    "    #print('profit:', sum_profit)\n",
    "    #print('ROI:', sum_profit/sum_size)\n",
    "    #print('Avg. coefficient:', avg_quote)\n",
    "    #print()\n",
    "        \n",
    "    bankroll[wk] = bankroll[wk - 1] + sum_profit\n",
    "    avg_coeff_week[wk] = avg_quote\n",
    "    \n",
    "fig = plt.figure(1, figsize=(10,6))\n",
    "ax1 = plt.plot(np.arange(week + 1), bankroll, 'o-')\n",
    "ax2 = plt.plot(np.arange(4, week + 1), bankroll3er, 'o-')\n",
    "plt.ylim([0, 1.8*bankroll[0]])\n",
    "plt.grid()\n",
    "plt.title('bankroll')\n",
    "\n",
    "for wk in range(week):\n",
    "\n",
    "    wk += 1\n",
    "    plt.annotate('Week ' + str(wk) + '\\n' + str(int(bets_won_week[wk])) + '/' \n",
    "                + str(int(bets_tot_week[wk])) + ' bets'\n",
    "                + '\\n{0:.2f} %'.format(bets_won_week[wk]/bets_tot_week[wk]*100) \n",
    "                + '\\n{0:.2f}'.format(avg_coeff_week[wk]), (wk, bankroll[wk]), (wk - 0.12, bankroll[wk] + 5))\n",
    "    \n",
    "    if wk >= 5:\n",
    "        plt.annotate('3er Kombi', (wk, bankroll3er[wk - 4]), (wk - 0.12, bankroll3er[wk - 4] + 5))"
   ]
  },
  {
   "cell_type": "code",
   "execution_count": 14,
   "metadata": {},
   "outputs": [
    {
     "data": {
      "text/plain": [
       "array([4, 5])"
      ]
     },
     "execution_count": 14,
     "metadata": {},
     "output_type": "execute_result"
    }
   ],
   "source": [
    "np.arange(4, wk + 1)"
   ]
  },
  {
   "cell_type": "code",
   "execution_count": null,
   "metadata": {},
   "outputs": [],
   "source": [
    "str(bets_won_week[wk]/bets_tot_week[wk]*100)"
   ]
  },
  {
   "cell_type": "code",
   "execution_count": null,
   "metadata": {},
   "outputs": [],
   "source": [
    "bankroll"
   ]
  },
  {
   "cell_type": "code",
   "execution_count": null,
   "metadata": {},
   "outputs": [],
   "source": [
    "bet_matrix"
   ]
  },
  {
   "cell_type": "code",
   "execution_count": null,
   "metadata": {},
   "outputs": [],
   "source": [
    "5*0.83*20"
   ]
  },
  {
   "cell_type": "code",
   "execution_count": null,
   "metadata": {},
   "outputs": [],
   "source": [
    "wetten.index('Gewonnen\\n')"
   ]
  },
  {
   "cell_type": "code",
   "execution_count": null,
   "metadata": {},
   "outputs": [],
   "source": [
    "wetten[4]"
   ]
  },
  {
   "cell_type": "code",
   "execution_count": null,
   "metadata": {},
   "outputs": [],
   "source": [
    "wetten.index('Gewonnen\\n', 5)"
   ]
  },
  {
   "cell_type": "code",
   "execution_count": null,
   "metadata": {},
   "outputs": [],
   "source": [
    "wetten[0].rstrip()"
   ]
  },
  {
   "cell_type": "code",
   "execution_count": null,
   "metadata": {},
   "outputs": [],
   "source": [
    "wetten"
   ]
  },
  {
   "cell_type": "code",
   "execution_count": null,
   "metadata": {},
   "outputs": [],
   "source": []
  }
 ],
 "metadata": {
  "kernelspec": {
   "display_name": "Python 3",
   "language": "python",
   "name": "python3"
  },
  "language_info": {
   "codemirror_mode": {
    "name": "ipython",
    "version": 3
   },
   "file_extension": ".py",
   "mimetype": "text/x-python",
   "name": "python",
   "nbconvert_exporter": "python",
   "pygments_lexer": "ipython3",
   "version": "3.6.5"
  }
 },
 "nbformat": 4,
 "nbformat_minor": 2
}
