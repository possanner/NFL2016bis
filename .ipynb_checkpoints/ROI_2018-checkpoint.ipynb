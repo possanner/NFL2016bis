{
 "cells": [
  {
   "cell_type": "code",
   "execution_count": 1,
   "metadata": {},
   "outputs": [],
   "source": [
    "import numpy as np\n",
    "import matplotlib.pyplot as plt\n",
    "%matplotlib inline"
   ]
  },
  {
   "cell_type": "code",
   "execution_count": 2,
   "metadata": {},
   "outputs": [
    {
     "data": {
      "text/plain": [
       "array([ 0.,  0.,  0.,  0.])"
      ]
     },
     "execution_count": 2,
     "metadata": {},
     "output_type": "execute_result"
    }
   ],
   "source": [
    "np.zeros(4)"
   ]
  },
  {
   "cell_type": "code",
   "execution_count": 3,
   "metadata": {
    "scrolled": true
   },
   "outputs": [
    {
     "data": {
      "image/png": "[encoded data removed]",
      "text/plain": [
       "<Figure size 720x432 with 1 Axes>"
      ]
     },
     "metadata": {},
     "output_type": "display_data"
    }
   ],
   "source": [
    "week = 4\n",
    "\n",
    "bankroll = np.zeros(week + 1)\n",
    "bets_tot_week = np.zeros(week + 1)\n",
    "bets_won_week = np.zeros(week + 1)\n",
    "bets_lost_week = np.zeros(week + 1)\n",
    "avg_coeff_week = np.zeros(week + 1)\n",
    "\n",
    "bankroll[0] = 75.\n",
    "\n",
    "for wk in range(week):\n",
    "\n",
    "    wk += 1\n",
    "    \n",
    "    #del wetten\n",
    "    with open('Week' + str(wk) + '/wagers_w' + str(wk) + '.txt') as f:\n",
    "        wetten = list(f)    \n",
    "        \n",
    "    bets_tot = wetten.count('Einzelwette\\n')\n",
    "    bets_won = wetten.count('Gewonnen\\n')\n",
    "    bets_lost = wetten.count('Verloren\\n')\n",
    "    #print('week:', wk, 'bets:', bets_tot, 'won:', bets_won, 'lost:', bets_lost)\n",
    "    #print('winning percentage: ', bets_won/bets_tot*100, '%') \n",
    "    \n",
    "    bets_tot_week[wk] = bets_tot\n",
    "    bets_won_week[wk] = bets_won\n",
    "    bets_lost_week[wk] = bets_lost\n",
    "\n",
    "    bet_list = []\n",
    "    bet_matrix = np.zeros((bets_tot, 3))\n",
    "\n",
    "    bet_nr = 0\n",
    "    for i in range(bets_tot):\n",
    "        this_list = []\n",
    "        bet_nr = wetten.index('Einzelwette\\n', bet_nr + 1)\n",
    "        #print(bet_nr)\n",
    "        date = wetten[bet_nr - 1].rstrip()\n",
    "        #print(date)\n",
    "        this_list.append(date)\n",
    "        size = wetten[bet_nr + 1].rstrip()\n",
    "        #print(size)\n",
    "        this_list.append(size)\n",
    "        result = wetten[bet_nr + 2].rstrip()\n",
    "        #print(result)\n",
    "        this_list.append(result)\n",
    "        if result=='Gewonnen':\n",
    "            profit = wetten[bet_nr + 3].rstrip()\n",
    "            jump = 1\n",
    "        else:\n",
    "            profit = '0,00 €' \n",
    "            jump = 0\n",
    "        #print(profit, jump)\n",
    "        this_list.append(profit)\n",
    "        teams = wetten[bet_nr + 4 + jump].rstrip()\n",
    "        #print(teams)\n",
    "        this_list.append(teams)\n",
    "        handicap = wetten[bet_nr + 5 + jump].rstrip()\n",
    "        #print(handicap)\n",
    "        this_list.append(handicap)\n",
    "        quote = wetten[bet_nr + 6 + jump].rstrip()\n",
    "        #print(quote)\n",
    "        this_list.append(quote)\n",
    "        score = wetten[bet_nr + 7 + jump].rstrip()\n",
    "        #print(score)\n",
    "        this_list.append(score)\n",
    "\n",
    "        bet_list.append(this_list)\n",
    "\n",
    "        ind1 = size.find('z')\n",
    "        ind2 = size.find('€')\n",
    "        bet_matrix[i, 0] = float(size[ind1 + 1:ind2 - 1].lstrip().replace(',', '.'))\n",
    "        bet_matrix[i, 1] = float(profit[:-1].lstrip().replace(',', '.')) - bet_matrix[i, 0]\n",
    "        bet_matrix[i, 2] = float(quote.replace(',', '.'))\n",
    "        \n",
    "    sum_size = np.sum(bet_matrix[:, 0])\n",
    "    sum_profit = np.sum(bet_matrix[:, 1])\n",
    "    avg_quote = np.mean(bet_matrix[:, 2])\n",
    "    #print('investment:', sum_size)\n",
    "    #print('profit:', sum_profit)\n",
    "    #print('ROI:', sum_profit/sum_size)\n",
    "    #print('Avg. coefficient:', avg_quote)\n",
    "    #print()\n",
    "        \n",
    "    bankroll[wk] = bankroll[wk - 1] + sum_profit\n",
    "    avg_coeff_week[wk] = avg_quote\n",
    "    \n",
    "fig = plt.figure(1, figsize=(10,6))\n",
    "ax1 = plt.plot(np.arange(week + 1), bankroll, 'o-')\n",
    "plt.ylim([0, 1.8*bankroll[0]])\n",
    "plt.grid()\n",
    "plt.title('bankroll')\n",
    "\n",
    "for wk in range(week):\n",
    "\n",
    "    wk += 1\n",
    "    plt.annotate('Week ' + str(wk) + '\\n' + str(int(bets_won_week[wk])) + '/' \n",
    "                + str(int(bets_tot_week[wk])) + ' bets'\n",
    "                + '\\n{0:.2f} %'.format(bets_won_week[wk]/bets_tot_week[wk]*100) \n",
    "                + '\\n{0:.2f}'.format(avg_coeff_week[wk]), (wk, bankroll[wk]), (wk - 0.12, bankroll[wk] + 5))"
   ]
  },
  {
   "cell_type": "code",
   "execution_count": 4,
   "metadata": {},
   "outputs": [
    {
     "data": {
      "text/plain": [
       "'33.3333333333'"
      ]
     },
     "execution_count": 4,
     "metadata": {},
     "output_type": "execute_result"
    }
   ],
   "source": [
    "str(bets_won_week[wk]/bets_tot_week[wk]*100)"
   ]
  },
  {
   "cell_type": "code",
   "execution_count": 5,
   "metadata": {},
   "outputs": [
    {
     "data": {
      "text/plain": [
       "array([ 75.  ,  73.5 ,  80.75,  81.25,  85.25])"
      ]
     },
     "execution_count": 5,
     "metadata": {},
     "output_type": "execute_result"
    }
   ],
   "source": [
    "bankroll"
   ]
  },
  {
   "cell_type": "code",
   "execution_count": 6,
   "metadata": {},
   "outputs": [
    {
     "data": {
      "text/plain": [
       "array([[ 5. ,  4. ,  1.8]])"
      ]
     },
     "execution_count": 6,
     "metadata": {},
     "output_type": "execute_result"
    }
   ],
   "source": [
    "bet_matrix"
   ]
  },
  {
   "cell_type": "code",
   "execution_count": 7,
   "metadata": {},
   "outputs": [
    {
     "data": {
      "text/plain": [
       "82.99999999999999"
      ]
     },
     "execution_count": 7,
     "metadata": {},
     "output_type": "execute_result"
    }
   ],
   "source": [
    "5*0.83*20"
   ]
  },
  {
   "cell_type": "code",
   "execution_count": 8,
   "metadata": {},
   "outputs": [
    {
     "data": {
      "text/plain": [
       "4"
      ]
     },
     "execution_count": 8,
     "metadata": {},
     "output_type": "execute_result"
    }
   ],
   "source": [
    "wetten.index('Gewonnen\\n')"
   ]
  },
  {
   "cell_type": "code",
   "execution_count": 9,
   "metadata": {},
   "outputs": [
    {
     "data": {
      "text/plain": [
       "'Gewonnen\\n'"
      ]
     },
     "execution_count": 9,
     "metadata": {},
     "output_type": "execute_result"
    }
   ],
   "source": [
    "wetten[4]"
   ]
  },
  {
   "cell_type": "code",
   "execution_count": 10,
   "metadata": {},
   "outputs": [
    {
     "ename": "ValueError",
     "evalue": "'Gewonnen\\n' is not in list",
     "output_type": "error",
     "traceback": [
      "\u001b[0;31m---------------------------------------------------------------------------\u001b[0m",
      "\u001b[0;31mValueError\u001b[0m                                Traceback (most recent call last)",
      "\u001b[0;32m<ipython-input-10-1274d3b21126>\u001b[0m in \u001b[0;36m<module>\u001b[0;34m()\u001b[0m\n\u001b[0;32m----> 1\u001b[0;31m \u001b[0mwetten\u001b[0m\u001b[0;34m.\u001b[0m\u001b[0mindex\u001b[0m\u001b[0;34m(\u001b[0m\u001b[0;34m'Gewonnen\\n'\u001b[0m\u001b[0;34m,\u001b[0m \u001b[0;36m5\u001b[0m\u001b[0;34m)\u001b[0m\u001b[0;34m\u001b[0m\u001b[0m\n\u001b[0m",
      "\u001b[0;31mValueError\u001b[0m: 'Gewonnen\\n' is not in list"
     ]
    }
   ],
   "source": [
    "wetten.index('Gewonnen\\n', 5)"
   ]
  },
  {
   "cell_type": "code",
   "execution_count": null,
   "metadata": {},
   "outputs": [],
   "source": [
    "wetten[0].rstrip()"
   ]
  },
  {
   "cell_type": "code",
   "execution_count": null,
   "metadata": {},
   "outputs": [],
   "source": [
    "wetten"
   ]
  },
  {
   "cell_type": "code",
   "execution_count": null,
   "metadata": {},
   "outputs": [],
   "source": []
  }
 ],
 "metadata": {
  "kernelspec": {
   "display_name": "Python 3",
   "language": "python",
   "name": "python3"
  },
  "language_info": {
   "codemirror_mode": {
    "name": "ipython",
    "version": 3
   },
   "file_extension": ".py",
   "mimetype": "text/x-python",
   "name": "python",
   "nbconvert_exporter": "python",
   "pygments_lexer": "ipython3",
   "version": "3.6.5"
  }
 },
 "nbformat": 4,
 "nbformat_minor": 2
}
