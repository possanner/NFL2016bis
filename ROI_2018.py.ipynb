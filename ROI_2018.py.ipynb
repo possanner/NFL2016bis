{
 "cells": [
  {
   "cell_type": "code",
   "execution_count": 119,
   "metadata": {},
   "outputs": [],
   "source": [
    "import numpy as np"
   ]
  },
  {
   "cell_type": "code",
   "execution_count": 120,
   "metadata": {},
   "outputs": [],
   "source": [
    "with open('ROI_2018.txt') as f:\n",
    "    #passer = f.readlines()\n",
    "    wetten = list(f)"
   ]
  },
  {
   "cell_type": "code",
   "execution_count": 121,
   "metadata": {},
   "outputs": [
    {
     "name": "stdout",
     "output_type": "stream",
     "text": [
      "bets: 17 won: 10 lost: 7\n",
      "winning percentage:  58.82352941176471 %\n"
     ]
    }
   ],
   "source": [
    "bets_tot = wetten.count('Einzelwette\\n')\n",
    "bets_won = wetten.count('Gewonnen\\n')\n",
    "bets_lost = wetten.count('Verloren\\n')\n",
    "print('bets:', bets_tot, 'won:', bets_won, 'lost:', bets_lost)\n",
    "print('winning percentage: ', bets_won/bets_tot*100, '%') "
   ]
  },
  {
   "cell_type": "code",
   "execution_count": 122,
   "metadata": {},
   "outputs": [],
   "source": [
    "bet_list = []\n",
    "bet_matrix = np.zeros((bets_tot, 3))\n",
    "\n",
    "bet_nr = 0\n",
    "for i in range(bets_tot):\n",
    "    this_list = []\n",
    "    bet_nr = wetten.index('Einzelwette\\n', bet_nr + 1)\n",
    "    #print(bet_nr)\n",
    "    date = wetten[bet_nr - 1].rstrip()\n",
    "    #print(date)\n",
    "    this_list.append(date)\n",
    "    size = wetten[bet_nr + 1].rstrip()\n",
    "    #print(size)\n",
    "    this_list.append(size)\n",
    "    result = wetten[bet_nr + 2].rstrip()\n",
    "    #print(result)\n",
    "    this_list.append(result)\n",
    "    if result=='Gewonnen':\n",
    "        profit = wetten[bet_nr + 3].rstrip()\n",
    "        jump = 1\n",
    "    else:\n",
    "        profit = '0,00 €' \n",
    "        jump = 0\n",
    "    #print(profit, jump)\n",
    "    this_list.append(profit)\n",
    "    teams = wetten[bet_nr + 4 + jump].rstrip()\n",
    "    #print(teams)\n",
    "    this_list.append(teams)\n",
    "    handicap = wetten[bet_nr + 5 + jump].rstrip()\n",
    "    #print(handicap)\n",
    "    this_list.append(handicap)\n",
    "    quote = wetten[bet_nr + 6 + jump].rstrip()\n",
    "    #print(quote)\n",
    "    this_list.append(quote)\n",
    "    score = wetten[bet_nr + 7 + jump].rstrip()\n",
    "    #print(score)\n",
    "    this_list.append(score)\n",
    "\n",
    "    bet_list.append(this_list)\n",
    "    \n",
    "    ind1 = size.find('z')\n",
    "    ind2 = size.find('€')\n",
    "    bet_matrix[i, 0] = float(size[ind1 + 1:ind2 - 1].lstrip().replace(',', '.'))\n",
    "    bet_matrix[i, 1] = float(profit[:-1].lstrip().replace(',', '.')) - bet_matrix[i, 0]\n",
    "    bet_matrix[i, 2] = float(quote.replace(',', '.'))"
   ]
  },
  {
   "cell_type": "code",
   "execution_count": 123,
   "metadata": {},
   "outputs": [
    {
     "name": "stdout",
     "output_type": "stream",
     "text": [
      "investment: 85.0\n",
      "profit: 10.25\n",
      "ROI: 0.120588235294\n",
      "Avg. coefficient: 1.87352941176\n"
     ]
    }
   ],
   "source": [
    "sum_size = np.sum(bet_matrix[:, 0])\n",
    "sum_profit = np.sum(bet_matrix[:, 1])\n",
    "avg_quote = np.mean(bet_matrix[:, 2])\n",
    "print('investment:', sum_size)\n",
    "print('profit:', sum_profit)\n",
    "print('ROI:', sum_profit/sum_size)\n",
    "print('Avg. coefficient:', avg_quote)"
   ]
  },
  {
   "cell_type": "code",
   "execution_count": 124,
   "metadata": {},
   "outputs": [
    {
     "data": {
      "text/plain": [
       "array([[ 5.  ,  4.  ,  1.8 ],\n",
       "       [ 5.  ,  3.25,  1.65],\n",
       "       [ 5.  ,  3.5 ,  1.7 ],\n",
       "       [ 5.  , -5.  ,  1.7 ],\n",
       "       [ 5.  ,  4.75,  1.95],\n",
       "       [ 5.  ,  4.  ,  1.8 ],\n",
       "       [ 5.  , -5.  ,  1.85],\n",
       "       [ 5.  , -5.  ,  1.8 ],\n",
       "       [ 5.  ,  4.  ,  1.8 ],\n",
       "       [ 5.  , -5.  ,  1.8 ],\n",
       "       [ 5.  ,  8.5 ,  2.7 ],\n",
       "       [ 5.  , -5.  ,  1.8 ],\n",
       "       [ 5.  ,  4.75,  1.95],\n",
       "       [ 5.  ,  4.5 ,  1.9 ],\n",
       "       [ 5.  ,  4.  ,  1.8 ],\n",
       "       [ 5.  , -5.  ,  1.9 ],\n",
       "       [ 5.  , -5.  ,  1.95]])"
      ]
     },
     "execution_count": 124,
     "metadata": {},
     "output_type": "execute_result"
    }
   ],
   "source": [
    "bet_matrix"
   ]
  },
  {
   "cell_type": "code",
   "execution_count": 125,
   "metadata": {},
   "outputs": [
    {
     "data": {
      "text/plain": [
       "82.99999999999999"
      ]
     },
     "execution_count": 125,
     "metadata": {},
     "output_type": "execute_result"
    }
   ],
   "source": [
    "5*0.83*20"
   ]
  },
  {
   "cell_type": "code",
   "execution_count": 13,
   "metadata": {},
   "outputs": [
    {
     "data": {
      "text/plain": [
       "4"
      ]
     },
     "execution_count": 13,
     "metadata": {},
     "output_type": "execute_result"
    }
   ],
   "source": [
    "wetten.index('Gewonnen\\n')"
   ]
  },
  {
   "cell_type": "code",
   "execution_count": 14,
   "metadata": {},
   "outputs": [
    {
     "data": {
      "text/plain": [
       "'Gewonnen\\n'"
      ]
     },
     "execution_count": 14,
     "metadata": {},
     "output_type": "execute_result"
    }
   ],
   "source": [
    "wetten[4]"
   ]
  },
  {
   "cell_type": "code",
   "execution_count": 16,
   "metadata": {},
   "outputs": [
    {
     "data": {
      "text/plain": [
       "16"
      ]
     },
     "execution_count": 16,
     "metadata": {},
     "output_type": "execute_result"
    }
   ],
   "source": [
    "wetten.index('Gewonnen\\n', 5)"
   ]
  },
  {
   "cell_type": "code",
   "execution_count": 19,
   "metadata": {},
   "outputs": [
    {
     "data": {
      "text/plain": [
       "'426397'"
      ]
     },
     "execution_count": 19,
     "metadata": {},
     "output_type": "execute_result"
    }
   ],
   "source": [
    "wetten[0].rstrip()"
   ]
  },
  {
   "cell_type": "code",
   "execution_count": 17,
   "metadata": {},
   "outputs": [
    {
     "data": {
      "text/plain": [
       "['426397\\n',\n",
       " '27.09.2018 19:23\\n',\n",
       " 'Einzelwette\\n',\n",
       " 'Einsatz 5,00 €\\n',\n",
       " 'Gewonnen\\n',\n",
       " '9,00 €\\n',\n",
       " '28.09. 2:22\\n',\n",
       " 'Los Angeles Rams - Minnesota Vikings\\n',\n",
       " 'Handicap (0:7,5) 2\\n',\n",
       " '1,80\\n',\n",
       " '38:31 (7:7) (21:13) (10:8) (0:3)\\n',\n",
       " ' \\n',\n",
       " '288479\\n',\n",
       " '22.09.2018 11:04\\n',\n",
       " 'Einzelwette\\n',\n",
       " 'Einsatz 5,00 €\\n',\n",
       " 'Gewonnen\\n',\n",
       " '8,25 €\\n',\n",
       " '25.09. 2:15\\n',\n",
       " 'Tampa B. Buccanee. - Pittsburgh Steelers\\n',\n",
       " 'Handicap (3,5:0) 1\\n',\n",
       " '1,65\\n',\n",
       " '27:30 (7:6) (3:24) (3:0) (14:0)\\n',\n",
       " ' \\n',\n",
       " '288383\\n',\n",
       " '22.09.2018 11:00\\n',\n",
       " 'Einzelwette\\n',\n",
       " 'Einsatz 5,00 €\\n',\n",
       " 'Gewonnen\\n',\n",
       " '8,50 €\\n',\n",
       " '23.09. 19:00\\n',\n",
       " 'Philadelphia Eagles - Indianapolis Colts\\n',\n",
       " 'Handicap (0:7,5) 2\\n',\n",
       " '1,70\\n',\n",
       " '20:16 (7:7) (3:0) (3:6) (7:3)\\n',\n",
       " ' \\n',\n",
       " '288361\\n',\n",
       " '22.09.2018 10:59\\n',\n",
       " 'Einzelwette\\n',\n",
       " 'Einsatz 5,00 €\\n',\n",
       " 'Verloren\\n',\n",
       " '23.09. 19:00\\n',\n",
       " 'Carolina Panthers - Cincinnati Bengals\\n',\n",
       " 'Handicap (0:3,5) 2\\n',\n",
       " '1,70\\n',\n",
       " '31:21 (7:7) (14:7) (7:7) (3:0)\\n',\n",
       " ' \\n',\n",
       " '228003\\n',\n",
       " '19.09.2018 20:38\\n',\n",
       " 'Einzelwette\\n',\n",
       " 'Einsatz 5,00 €\\n',\n",
       " 'Gewonnen\\n',\n",
       " '9,75 €\\n',\n",
       " '23.09. 19:00\\n',\n",
       " 'Miami Dolphins - Oakland Raiders\\n',\n",
       " 'Handicap (0:3,5) 1\\n',\n",
       " '1,95\\n',\n",
       " '28:20 (0:7) (7:3) (7:7) (14:3)\\n',\n",
       " ' \\n',\n",
       " '227408\\n',\n",
       " '19.09.2018 20:22\\n',\n",
       " 'Einzelwette\\n',\n",
       " 'Einsatz 5,00 €\\n',\n",
       " 'Gewonnen\\n',\n",
       " '9,00 €\\n',\n",
       " '23.09. 22:25\\n',\n",
       " 'Arizona Cardinals - Chicago Bears\\n',\n",
       " 'Handicap (6,5:0) 1\\n',\n",
       " '1,80\\n',\n",
       " '14:16 (14:0) (0:3) (0:10) (0:3)\\n',\n",
       " ' \\n',\n",
       " '227272\\n',\n",
       " '19.09.2018 20:17\\n',\n",
       " 'Einzelwette\\n',\n",
       " 'Einsatz 5,00 €\\n',\n",
       " 'Verloren\\n',\n",
       " '23.09. 22:25\\n',\n",
       " 'Seattle Seahawks - Dallas Cowboys\\n',\n",
       " 'Handicap (0:1,5) 2\\n',\n",
       " '1,85\\n',\n",
       " '24:13 (0:0) (17:3) (0:3) (7:7)\\n',\n",
       " ' \\n',\n",
       " '227092\\n',\n",
       " '19.09.2018 20:11\\n',\n",
       " 'Einzelwette\\n',\n",
       " 'Einsatz 5,00 €\\n',\n",
       " 'Verloren\\n',\n",
       " '23.09. 19:00\\n',\n",
       " 'Baltimore Ravens - Denver Broncos\\n',\n",
       " 'Handicap (0:5,5) 2\\n',\n",
       " '1,80\\n',\n",
       " '27:14 (10:14) (10:0) (7:0) (0:0)\\n',\n",
       " ' \\n',\n",
       " '144325\\n',\n",
       " '15.09.2018 13:44\\n',\n",
       " 'Einzelwette\\n',\n",
       " 'Einsatz 5,00 €\\n',\n",
       " 'Gewonnen\\n',\n",
       " '9,00 €\\n',\n",
       " '16.09. 19:00\\n',\n",
       " 'Pittsburgh Steelers - Kansas City Chiefs\\n',\n",
       " 'Handicap (0:5,5) 2\\n',\n",
       " '1,80\\n',\n",
       " '37:42 (0:21) (21:0) (7:14) (9:7)\\n',\n",
       " ' \\n',\n",
       " '124676\\n',\n",
       " '13.09.2018 22:03\\n',\n",
       " 'Einzelwette\\n',\n",
       " 'Einsatz 5,00 €\\n',\n",
       " 'Verloren\\n',\n",
       " '16.09. 22:05\\n',\n",
       " 'San Francisco 49ers - Detroit Lions\\n',\n",
       " 'Handicap (0:5,5) 1\\n',\n",
       " '1,80\\n',\n",
       " '30:27 (3:7) (10:3) (14:3) (3:14)\\n',\n",
       " ' \\n',\n",
       " '112112\\n',\n",
       " '12.09.2018 18:11\\n',\n",
       " '1er Kombis aus 3 = 3\\n',\n",
       " 'Einsatz 3 x 5,00 € = 15,00 €\\n',\n",
       " 'Gewonnen\\n',\n",
       " '23,25 €\\n',\n",
       " '16.09. 19:00\\n',\n",
       " 'Pittsburgh Steelers - Kansas City Chiefs\\n',\n",
       " 'Tipp 2\\n',\n",
       " '2,70\\n',\n",
       " '37:42 (0:21) (21:0) (7:14) (9:7)\\n',\n",
       " ' \\n',\n",
       " '16.09. 22:25\\n',\n",
       " 'Denver Broncos - Oakland Raiders\\n',\n",
       " 'Handicap (0:4,5) 1\\n',\n",
       " '1,80\\n',\n",
       " '20:19 (0:3) (0:9) (10:7) (10:0)\\n',\n",
       " ' \\n',\n",
       " '16.09. 22:25\\n',\n",
       " 'Jacksonville Jaguars - New Eng. Patriots\\n',\n",
       " 'Tipp 1\\n',\n",
       " '1,95\\n',\n",
       " '31:20 (14:0) (7:3) (3:7) (7:10)\\n',\n",
       " ' \\n',\n",
       " '76967\\n',\n",
       " '09.09.2018 15:08\\n',\n",
       " '3er Kombi\\n',\n",
       " 'Einsatz 5,00 €\\n',\n",
       " 'Verloren\\n',\n",
       " '09.09. 19:00\\n',\n",
       " 'Indianapolis Colts - Cincinnati Bengals\\n',\n",
       " 'Handicap (0:3,5) 2\\n',\n",
       " '1,55\\n',\n",
       " '23:34 (3:3) (13:7) (7:7) (0:17)\\n',\n",
       " ' \\n',\n",
       " '09.09. 19:00\\n',\n",
       " 'Minnesota Vikings - San Francisco 49ers\\n',\n",
       " 'Handicap (0:7,5) 2\\n',\n",
       " '1,60\\n',\n",
       " '24:16 (3:0) (7:3) (14:10) (0:3)\\n',\n",
       " ' \\n',\n",
       " '09.09. 19:00\\n',\n",
       " 'New Eng. Patriots - Houston Texans\\n',\n",
       " 'Handicap (0:7,5) 2\\n',\n",
       " '1,60\\n',\n",
       " '27:20 (7:3) (14:3) (3:7) (3:7)\\n',\n",
       " ' \\n',\n",
       " '76910\\n',\n",
       " '09.09.2018 15:03\\n',\n",
       " '1er Kombis aus 4 = 4\\n',\n",
       " 'Einsatz 4 x 5,00 € = 20,00 €\\n',\n",
       " 'Gewonnen\\n',\n",
       " '18,50 €\\n',\n",
       " '09.09. 19:00\\n',\n",
       " 'Baltimore Ravens - Buffalo Bills\\n',\n",
       " 'Handicap (0:7,5) 1\\n',\n",
       " '1,90\\n',\n",
       " '47:3 (14:0) (12:0) (14:3) (7:0)\\n',\n",
       " ' \\n',\n",
       " '09.09. 19:00\\n',\n",
       " 'Indianapolis Colts - Cincinnati Bengals\\n',\n",
       " 'Handicap (0:2,5) 2\\n',\n",
       " '1,80\\n',\n",
       " '23:34 (3:3) (13:7) (7:7) (0:17)\\n',\n",
       " ' \\n',\n",
       " '09.09. 19:00\\n',\n",
       " 'Minnesota Vikings - San Francisco 49ers\\n',\n",
       " 'Handicap (0:5,5) 2\\n',\n",
       " '1,90\\n',\n",
       " '24:16 (3:0) (7:3) (14:10) (0:3)\\n',\n",
       " ' \\n',\n",
       " '09.09. 19:00\\n',\n",
       " 'New Eng. Patriots - Houston Texans\\n',\n",
       " 'Handicap (0:5,5) 2\\n',\n",
       " '1,95\\n',\n",
       " '27:20 (7:3']"
      ]
     },
     "execution_count": 17,
     "metadata": {},
     "output_type": "execute_result"
    }
   ],
   "source": [
    "wetten"
   ]
  },
  {
   "cell_type": "code",
   "execution_count": null,
   "metadata": {},
   "outputs": [],
   "source": []
  }
 ],
 "metadata": {
  "kernelspec": {
   "display_name": "Python 3",
   "language": "python",
   "name": "python3"
  },
  "language_info": {
   "codemirror_mode": {
    "name": "ipython",
    "version": 3
   },
   "file_extension": ".py",
   "mimetype": "text/x-python",
   "name": "python",
   "nbconvert_exporter": "python",
   "pygments_lexer": "ipython3",
   "version": "3.6.5"
  }
 },
 "nbformat": 4,
 "nbformat_minor": 2
}
