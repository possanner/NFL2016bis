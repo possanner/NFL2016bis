{
 "cells": [
  {
   "cell_type": "code",
   "execution_count": 1,
   "metadata": {},
   "outputs": [],
   "source": [
    "def redpr(str):\n",
    "    print('\\x1b[31m' + str + '\\x1b[0m')\n",
    "    \n",
    "def greenpr(str):\n",
    "    print('\\x1b[32m' + str + '\\x1b[0m')\n",
    "    \n",
    "def colorpr2(str0, str1, col1, str2, col2):\n",
    "    print(str0 + '\\x1b[' + col1 + 'm' + str1 + '\\x1b[0m', '   at  ', '\\x1b[' + col2 + 'm' + str2 + '\\x1b[0m')"
   ]
  },
  {
   "cell_type": "code",
   "execution_count": 2,
   "metadata": {},
   "outputs": [],
   "source": [
    "week = 5\n",
    "lastweek = week - 1\n",
    "wk = str(week)\n",
    "lwk = str(lastweek)\n",
    "\n",
    "with open('schedule_2018.txt') as f:\n",
    "    #passer = f.readlines()\n",
    "    schedule = list(f)\n",
    "\n",
    "with open('Week' + lwk + '/passingOFF_ydsper_w' + lwk + '.txt') as f:\n",
    "    #passer = f.readlines()\n",
    "    passOFF = list(f)\n",
    "    \n",
    "with open('Week' + lwk + '/passingDEF_ydsper_w' + lwk + '.txt') as f:\n",
    "    #passer = f.readlines()\n",
    "    passDEF = list(f)\n",
    "\n",
    "with open('Week' + lwk + '/sacks_w' + lwk + '.txt') as f:\n",
    "    #passer = f.readlines()\n",
    "    sacks = list(f)\n",
    "    \n",
    "with open('Week' + lwk + '/timessacked_w' + lwk + '.txt') as f:\n",
    "    #passer = f.readlines()\n",
    "    times = list(f)\n",
    "    \n",
    "with open('Week' + lwk + '/rushingOFF_w' + lwk + '.txt') as f:\n",
    "    #passer = f.readlines()\n",
    "    rushOFF = list(f)\n",
    "    \n",
    "with open('Week' + lwk + '/rushingDEF_w' + lwk + '.txt') as f:\n",
    "    #passer = f.readlines()\n",
    "    rushDEF = list(f)"
   ]
  },
  {
   "cell_type": "code",
   "execution_count": 3,
   "metadata": {},
   "outputs": [],
   "source": [
    "team_list = []\n",
    "data_dict = {}\n",
    "\n",
    "for i in range(len(passOFF)):\n",
    "    \n",
    "    # passing yards per game:\n",
    "    team = passOFF[i][2:25].lstrip()\n",
    "    team_list.append(team)\n",
    "    \n",
    "    val = float(passOFF[i].rstrip()[-5:])\n",
    "    \n",
    "    rnk = int(passOFF[i][0:2].rstrip())\n",
    "    \n",
    "    data_dict[team] = {}\n",
    "    data_dict[team]['passOFF'] = [val, rnk]\n",
    "\n",
    "    \n",
    "for i in range(len(passOFF)):\n",
    "    # passing yards allowed per game:\n",
    "    team = passDEF[i][2:25].lstrip()\n",
    "    \n",
    "    val = float(passDEF[i].rstrip()[-5:])\n",
    "    \n",
    "    rnk = int(passDEF[i][0:2].rstrip())\n",
    "    \n",
    "    data_dict[team]['passDEF'] = [val, rnk]\n",
    "    \n",
    "    # sack percentage:\n",
    "    team = sacks[i][2:25].lstrip()\n",
    "    \n",
    "    val = float(sacks[i].rstrip()[-4:])\n",
    "    \n",
    "    rnk = int(sacks[i][0:2].rstrip())\n",
    "    \n",
    "    data_dict[team]['sacks'] = [val, rnk]\n",
    "    \n",
    "    # times sacked percentage:\n",
    "    team = times[i][2:25].lstrip()\n",
    "    \n",
    "    val = float(times[i].rstrip()[-4:])\n",
    "    \n",
    "    rnk = int(times[i][0:2].rstrip())\n",
    "    \n",
    "    data_dict[team]['times'] = [val, rnk]\n",
    "    \n",
    "    # rushing yards per game:\n",
    "    team = rushOFF[i][2:25].lstrip()\n",
    "    \n",
    "    val = float(rushOFF[i].rstrip()[-5:])\n",
    "    \n",
    "    rnk = int(rushOFF[i][0:2].rstrip())\n",
    "    \n",
    "    data_dict[team]['rushOFF'] = [val, rnk]\n",
    "    \n",
    "    # rushing yards allowed per game:\n",
    "    team = rushDEF[i][2:25].lstrip()\n",
    "    \n",
    "    val = float(rushDEF[i].rstrip()[-5:])\n",
    "    \n",
    "    rnk = int(rushDEF[i][0:2].rstrip())\n",
    "    \n",
    "    data_dict[team]['rushDEF'] = [val, rnk]\n",
    "    \n",
    "    \n",
    "team_list = sorted(team_list)"
   ]
  },
  {
   "cell_type": "code",
   "execution_count": 4,
   "metadata": {
    "scrolled": true
   },
   "outputs": [],
   "source": [
    "total_list = []\n",
    "\n",
    "for team in team_list:\n",
    "    data_dict[team]['total'] = (data_dict[team]['passOFF'][1]\n",
    "    + data_dict[team]['passDEF'][1]\n",
    "    + data_dict[team]['sacks'][1]\n",
    "    + data_dict[team]['times'][1]\n",
    "    + data_dict[team]['rushOFF'][1]\n",
    "    + data_dict[team]['rushDEF'][1])/10\n",
    "    \n",
    "    total_list.append([data_dict[team]['total'], team])"
   ]
  },
  {
   "cell_type": "code",
   "execution_count": 5,
   "metadata": {},
   "outputs": [
    {
     "name": "stdout",
     "output_type": "stream",
     "text": [
      "Power rankings:\n",
      "\n",
      "  Jacksonville Jaguars 0.0\n",
      "      Los Angeles Rams 0.4\n",
      "         Chicago Bears 1.3\n",
      "         Detroit Lions 1.3\n",
      "   Washington Redskins 1.4\n",
      "      Baltimore Ravens 1.8\n",
      "    New Orleans Saints 2.5\n",
      "     Carolina Panthers 3.0\n",
      "        Denver Broncos 3.0\n",
      "        Dallas Cowboys 3.1\n",
      "     Green Bay Packers 3.1\n",
      "   Philadelphia Eagles 3.2\n",
      "  Los Angeles Chargers 3.3\n",
      "    Indianapolis Colts 4.1\n",
      "      Tennessee Titans 4.1\n",
      "        Houston Texans 4.4\n",
      "     Minnesota Vikings 4.4\n",
      "   Pittsburgh Steelers 4.7\n",
      "  New England Patriots 5.0\n",
      "    Kansas City Chiefs 5.4\n",
      "       Oakland Raiders 5.4\n",
      "  Tampa Bay Buccaneers 5.5\n",
      "      Cleveland Browns 5.8\n",
      "    Cincinnati Bengals 6.1\n",
      "   San Francisco 49ers 6.4\n",
      "         New York Jets 6.6\n",
      "       Atlanta Falcons 7.0\n",
      "      Seattle Seahawks 7.0\n",
      "     Arizona Cardinals 7.8\n",
      "         Buffalo Bills 8.2\n",
      "       New York Giants 8.8\n",
      "        Miami Dolphins 9.9\n"
     ]
    }
   ],
   "source": [
    "power_rankings = sorted(total_list)\n",
    "print('Power rankings:')\n",
    "print()\n",
    "for i in range(32):\n",
    "    print(power_rankings[i][1].rjust(22), '{0:.1f}'.format(power_rankings[i][0] - power_rankings[0][0]))\n"
   ]
  },
  {
   "cell_type": "code",
   "execution_count": 6,
   "metadata": {},
   "outputs": [
    {
     "name": "stdout",
     "output_type": "stream",
     "text": [
      "    Indianapolis Colts +1.6   at   New England Patriots\n",
      "      Tennessee Titans -1.6   at   Buffalo Bills\n",
      "       Atlanta Falcons +4.8   at   Pittsburgh Steelers\n",
      "      Baltimore Ravens -1.5   at   Cleveland Browns\n",
      "       New York Giants +8.3   at   Carolina Panthers\n",
      "  Jacksonville Jaguars -2.9   at   Kansas City Chiefs\n",
      "        Miami Dolphins +6.3   at   Cincinnati Bengals\n",
      "        Denver Broncos -1.1   at   New York Jets\n",
      "     Green Bay Packers +4.3   at   Detroit Lions\n",
      "       Oakland Raiders +4.6   at   Los Angeles Chargers\n",
      "     Minnesota Vikings +3.7   at   Philadelphia Eagles\n",
      "     Arizona Cardinals +3.9   at   San Francisco 49ers\n",
      "      Los Angeles Rams -4.1   at   Seattle Seahawks\n",
      "        Dallas Cowboys +1.2   at   Houston Texans\n",
      "   Washington Redskins +1.4   at   New Orleans Saints\n"
     ]
    }
   ],
   "source": [
    "for i in range(len(schedule)):\n",
    "    if ( schedule[i][0]==wk and schedule[i][1]==' ' ) or schedule[i][0:2]==wk:\n",
    "        \n",
    "        team_away = schedule[i][3:29].lstrip().rstrip()\n",
    "        team_home = schedule[i][28:].lstrip().rstrip()\n",
    "        \n",
    "        spread =  2.5 + data_dict[team_away]['total'] - data_dict[team_home]['total']\n",
    "        \n",
    "        print(team_away.rjust(22) + ' {0:+.1f}   at   '.format(spread) + team_home )"
   ]
  },
  {
   "cell_type": "code",
   "execution_count": 10,
   "metadata": {},
   "outputs": [
    {
     "name": "stdout",
     "output_type": "stream",
     "text": [
      "  New England Patriots 10.4\n",
      "         New York Jets 12.0\n",
      "         Buffalo Bills 13.6\n",
      "        Miami Dolphins 15.3\n"
     ]
    }
   ],
   "source": [
    "div_list = []\n",
    "team = 'Miami Dolphins'\n",
    "div_list.append([data_dict[team]['total'], team])\n",
    "team = 'New England Patriots'\n",
    "div_list.append([data_dict[team]['total'], team])\n",
    "team = 'New York Jets'\n",
    "div_list.append([data_dict[team]['total'], team])\n",
    "team = 'Buffalo Bills'\n",
    "div_list.append([data_dict[team]['total'], team])\n",
    "AFC_east = sorted(div_list)\n",
    "for i in range(4):\n",
    "    print(AFC_east[i][1].rjust(22), AFC_east[i][0])"
   ]
  },
  {
   "cell_type": "code",
   "execution_count": 12,
   "metadata": {},
   "outputs": [
    {
     "name": "stdout",
     "output_type": "stream",
     "text": [
      "      Baltimore Ravens 7.2\n",
      "   Pittsburgh Steelers 10.1\n",
      "      Cleveland Browns 11.2\n",
      "    Cincinnati Bengals 11.5\n"
     ]
    }
   ],
   "source": [
    "div_list = []\n",
    "team = 'Cincinnati Bengals'\n",
    "div_list.append([data_dict[team]['total'], team])\n",
    "team = 'Baltimore Ravens'\n",
    "div_list.append([data_dict[team]['total'], team])\n",
    "team = 'Pittsburgh Steelers'\n",
    "div_list.append([data_dict[team]['total'], team])\n",
    "team = 'Cleveland Browns'\n",
    "div_list.append([data_dict[team]['total'], team])\n",
    "AFC_north = sorted(div_list)\n",
    "for i in range(4):\n",
    "    print(AFC_north[i][1].rjust(22), AFC_north[i][0])"
   ]
  },
  {
   "cell_type": "code",
   "execution_count": 13,
   "metadata": {},
   "outputs": [
    {
     "name": "stdout",
     "output_type": "stream",
     "text": [
      "  Jacksonville Jaguars 5.4\n",
      "    Indianapolis Colts 9.5\n",
      "      Tennessee Titans 9.5\n",
      "        Houston Texans 9.8\n"
     ]
    }
   ],
   "source": [
    "div_list = []\n",
    "team = 'Tennessee Titans'\n",
    "div_list.append([data_dict[team]['total'], team])\n",
    "team = 'Jacksonville Jaguars'\n",
    "div_list.append([data_dict[team]['total'], team])\n",
    "team = 'Indianapolis Colts'\n",
    "div_list.append([data_dict[team]['total'], team])\n",
    "team = 'Houston Texans'\n",
    "div_list.append([data_dict[team]['total'], team])\n",
    "AFC_south = sorted(div_list)\n",
    "for i in range(4):\n",
    "    print(AFC_south[i][1].rjust(22), AFC_south[i][0])"
   ]
  },
  {
   "cell_type": "code",
   "execution_count": 15,
   "metadata": {},
   "outputs": [
    {
     "name": "stdout",
     "output_type": "stream",
     "text": [
      "        Denver Broncos 8.4\n",
      "  Los Angeles Chargers 8.7\n",
      "    Kansas City Chiefs 10.8\n",
      "       Oakland Raiders 10.8\n"
     ]
    }
   ],
   "source": [
    "div_list = []\n",
    "team = 'Kansas City Chiefs'\n",
    "div_list.append([data_dict[team]['total'], team])\n",
    "team = 'Denver Broncos'\n",
    "div_list.append([data_dict[team]['total'], team])\n",
    "team = 'Los Angeles Chargers'\n",
    "div_list.append([data_dict[team]['total'], team])\n",
    "team = 'Oakland Raiders'\n",
    "div_list.append([data_dict[team]['total'], team])\n",
    "AFC_west = sorted(div_list)\n",
    "for i in range(4):\n",
    "    print(AFC_west[i][1].rjust(22), AFC_west[i][0])"
   ]
  },
  {
   "cell_type": "code",
   "execution_count": 18,
   "metadata": {},
   "outputs": [
    {
     "name": "stdout",
     "output_type": "stream",
     "text": [
      "   Washington Redskins 6.8\n",
      "        Dallas Cowboys 8.5\n",
      "   Philadelphia Eagles 8.6\n",
      "       New York Giants 14.2\n"
     ]
    }
   ],
   "source": [
    "div_list = []\n",
    "team = 'Washington Redskins'\n",
    "div_list.append([data_dict[team]['total'], team])\n",
    "team = 'Philadelphia Eagles'\n",
    "div_list.append([data_dict[team]['total'], team])\n",
    "team = 'New York Giants'\n",
    "div_list.append([data_dict[team]['total'], team])\n",
    "team = 'Dallas Cowboys'\n",
    "div_list.append([data_dict[team]['total'], team])\n",
    "NFC_east = sorted(div_list)\n",
    "for i in range(4):\n",
    "    print(NFC_east[i][1].rjust(22), NFC_east[i][0])"
   ]
  },
  {
   "cell_type": "code",
   "execution_count": 20,
   "metadata": {},
   "outputs": [
    {
     "name": "stdout",
     "output_type": "stream",
     "text": [
      "         Chicago Bears 6.7\n",
      "         Detroit Lions 6.7\n",
      "     Green Bay Packers 8.5\n",
      "     Minnesota Vikings 9.8\n"
     ]
    }
   ],
   "source": [
    "div_list = []\n",
    "team = 'Chicago Bears'\n",
    "div_list.append([data_dict[team]['total'], team])\n",
    "team = 'Green Bay Packers'\n",
    "div_list.append([data_dict[team]['total'], team])\n",
    "team = 'Detroit Lions'\n",
    "div_list.append([data_dict[team]['total'], team])\n",
    "team = 'Minnesota Vikings'\n",
    "div_list.append([data_dict[team]['total'], team])\n",
    "NFC_north = sorted(div_list)\n",
    "for i in range(4):\n",
    "    print(NFC_north[i][1].rjust(22), NFC_north[i][0])"
   ]
  },
  {
   "cell_type": "code",
   "execution_count": 21,
   "metadata": {},
   "outputs": [
    {
     "name": "stdout",
     "output_type": "stream",
     "text": [
      "    New Orleans Saints 7.9\n",
      "     Carolina Panthers 8.4\n",
      "  Tampa Bay Buccaneers 10.9\n",
      "       Atlanta Falcons 12.4\n"
     ]
    }
   ],
   "source": [
    "div_list = []\n",
    "team = 'New Orleans Saints'\n",
    "div_list.append([data_dict[team]['total'], team])\n",
    "team = 'Tampa Bay Buccaneers'\n",
    "div_list.append([data_dict[team]['total'], team])\n",
    "team = 'Atlanta Falcons'\n",
    "div_list.append([data_dict[team]['total'], team])\n",
    "team = 'Carolina Panthers'\n",
    "div_list.append([data_dict[team]['total'], team])\n",
    "NFC_south = sorted(div_list)\n",
    "for i in range(4):\n",
    "    print(NFC_south[i][1].rjust(22), NFC_south[i][0])"
   ]
  },
  {
   "cell_type": "code",
   "execution_count": 22,
   "metadata": {},
   "outputs": [
    {
     "name": "stdout",
     "output_type": "stream",
     "text": [
      "      Los Angeles Rams 5.8\n",
      "   San Francisco 49ers 11.8\n",
      "      Seattle Seahawks 12.4\n",
      "     Arizona Cardinals 13.2\n"
     ]
    }
   ],
   "source": [
    "div_list = []\n",
    "team = 'Los Angeles Rams'\n",
    "div_list.append([data_dict[team]['total'], team])\n",
    "team = 'Seattle Seahawks'\n",
    "div_list.append([data_dict[team]['total'], team])\n",
    "team = 'Arizona Cardinals'\n",
    "div_list.append([data_dict[team]['total'], team])\n",
    "team = 'San Francisco 49ers'\n",
    "div_list.append([data_dict[team]['total'], team])\n",
    "NFC_west = sorted(div_list)\n",
    "for i in range(4):\n",
    "    print(NFC_west[i][1].rjust(22), NFC_west[i][0])"
   ]
  },
  {
   "cell_type": "code",
   "execution_count": null,
   "metadata": {},
   "outputs": [],
   "source": []
  }
 ],
 "metadata": {
  "kernelspec": {
   "display_name": "Python 3",
   "language": "python",
   "name": "python3"
  },
  "language_info": {
   "codemirror_mode": {
    "name": "ipython",
    "version": 3
   },
   "file_extension": ".py",
   "mimetype": "text/x-python",
   "name": "python",
   "nbconvert_exporter": "python",
   "pygments_lexer": "ipython3",
   "version": "3.6.5"
  }
 },
 "nbformat": 4,
 "nbformat_minor": 2
}
